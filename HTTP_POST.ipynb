{
  "nbformat": 4,
  "nbformat_minor": 0,
  "metadata": {
    "colab": {
      "provenance": []
    },
    "kernelspec": {
      "name": "python3",
      "display_name": "Python 3"
    },
    "language_info": {
      "name": "python"
    }
  },
  "cells": [
    {
      "cell_type": "markdown",
      "source": [
        "POST Requests\n",
        "\n",
        "I want to send data not in the link, but in the body of the request\n",
        "\n",
        "It's like filling out a registration form and sending the data to the server\n",
        "\n",
        "---\n",
        "\n"
      ],
      "metadata": {
        "id": "9_XFquYTeQZi"
      }
    },
    {
      "cell_type": "markdown",
      "source": [
        "This is the POST path"
      ],
      "metadata": {
        "id": "A5DlMKkIWoU6"
      }
    },
    {
      "cell_type": "code",
      "source": [
        "url_post = 'http://httpbin.org/post'"
      ],
      "metadata": {
        "id": "eRRWZXvnex3C"
      },
      "execution_count": 1,
      "outputs": []
    },
    {
      "cell_type": "markdown",
      "source": [
        "Prepare the data"
      ],
      "metadata": {
        "id": "4CXhqhomWvOx"
      }
    },
    {
      "cell_type": "code",
      "source": [
        "payload = {'name':'Sara','ID':'456'}"
      ],
      "metadata": {
        "id": "BbGeeOr4fFdx"
      },
      "execution_count": 6,
      "outputs": []
    },
    {
      "cell_type": "markdown",
      "source": [
        "Send the request using `post()`"
      ],
      "metadata": {
        "id": "EfCDzyskW1T4"
      }
    },
    {
      "cell_type": "code",
      "source": [
        "import requests\n",
        "r_post = requests.post(url_post, data=payload)"
      ],
      "metadata": {
        "id": "t774kO16W-Mp"
      },
      "execution_count": 7,
      "outputs": []
    },
    {
      "cell_type": "code",
      "source": [
        "print('Post request URL:', r_post.url)\n",
        "print('Post request body:', r_post.request.body)"
      ],
      "metadata": {
        "colab": {
          "base_uri": "https://localhost:8080/"
        },
        "id": "v42TNjxAXhuz",
        "outputId": "b31c7686-4920-408f-f7ff-d0c44de9e1f9"
      },
      "execution_count": 8,
      "outputs": [
        {
          "output_type": "stream",
          "name": "stdout",
          "text": [
            "Post request URL: http://httpbin.org/post\n",
            "Post request body: name=Sara&ID=456\n"
          ]
        }
      ]
    },
    {
      "cell_type": "markdown",
      "source": [
        "There are `NO PARAMETERS` in the `link`\n",
        "\n",
        "Here the `Data` comes in the `body`"
      ],
      "metadata": {
        "id": "YGOSqhPjYIHp"
      }
    },
    {
      "cell_type": "markdown",
      "source": [
        "\n",
        "\n",
        "---\n",
        "`Data` that reached the `server` as a `form`\n"
      ],
      "metadata": {
        "id": "Ne67pLmcYu0E"
      }
    },
    {
      "cell_type": "code",
      "source": [
        "print(r_post.json()['form'])"
      ],
      "metadata": {
        "colab": {
          "base_uri": "https://localhost:8080/"
        },
        "id": "fpPOcPtCX8r7",
        "outputId": "6b7f684b-e5f7-46eb-aaee-f66b453f61a6"
      },
      "execution_count": 9,
      "outputs": [
        {
          "output_type": "stream",
          "name": "stdout",
          "text": [
            "{'ID': '456', 'name': 'Sara'}\n"
          ]
        }
      ]
    },
    {
      "cell_type": "markdown",
      "source": [
        "\n",
        "\n",
        "---\n",
        "\n",
        "\n",
        "Comparison between GET and POST\n",
        "\n"
      ],
      "metadata": {
        "id": "q10aC4gKZnj6"
      }
    },
    {
      "cell_type": "markdown",
      "source": [
        "\n",
        "\n",
        "\n",
        "| Feature                | GET                                         | POST                                            |\n",
        "| ---------------------- | ------------------------------------------- | ----------------------------------------------- |\n",
        "| **Data Location**      | In the URL (e.g., `?name=...`)              | In the request body                             |\n",
        "| **Used For**           | Searching, querying, retrieving information | Sending data, submitting forms, uploading files |\n",
        "| **Visible to Others?** | Yes – data appears in the URL               | No – data is hidden in the request body         |\n",
        "| **Print/Inspect**      | `r.url`, `r.json()['args']`                 | `r.request.body`, `r.json()['form']`            |\n"
      ],
      "metadata": {
        "id": "eIZsSljqZRuj"
      }
    }
  ]
}