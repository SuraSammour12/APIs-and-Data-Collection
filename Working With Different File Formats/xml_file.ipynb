{
  "nbformat": 4,
  "nbformat_minor": 0,
  "metadata": {
    "colab": {
      "provenance": []
    },
    "kernelspec": {
      "name": "python3",
      "display_name": "Python 3"
    },
    "language_info": {
      "name": "python"
    }
  },
  "cells": [
    {
      "cell_type": "markdown",
      "source": [
        "Reading and Parsing Mixed Content XML with ElementTree\n",
        "\n",
        "What Is Mixed Content?\n",
        "\n",
        "Mixed content in XML means an element contains both plain text and nested child elements.\n",
        "\n",
        "\n",
        "---\n",
        "xml.etree.ElementTree\n",
        "\n",
        "The xml.etree.ElementTree module implements a simple and efficient API for parsing and creating XML data.\n",
        "\n",
        "\n",
        "---\n",
        "\n",
        "`Python Code to Parse This XML`"
      ],
      "metadata": {
        "id": "ALM6Qwdnmgh1"
      }
    },
    {
      "cell_type": "code",
      "source": [
        "import xml.etree.ElementTree as ET\n",
        "\n",
        "# Parse the XML file\n",
        "# Read the XML file at \"mixed-content.xml\" and convert it into a manageable tree\n",
        "tree = ET.parse('mixed-content.xml')\n",
        "root = tree.getroot() # Get the root element of the file, which is <article>\n",
        "\n",
        "# Extract basic elements\n",
        "title = root.find('title').text\n",
        "author = root.find('author').text\n",
        "content = root.find('content')\n",
        "\n",
        "\n",
        "print(f'Title: {title}')\n",
        "print(f'Author: {author}')\n",
        "print('\\n--- content ---')\n",
        "\n",
        "'''mixed content'''\n",
        "# Function to recursively extract mixed content (text + tags)\n",
        "def extract_mixed_content(element):\n",
        "    result = []\n",
        "\n",
        "    # Add text before any child\n",
        "    if element.text:\n",
        "        result.append(element.text.strip())\n",
        "\n",
        "    # Loop through child elements\n",
        "    for child in element:\n",
        "        # Add tag name and its text\n",
        "        result.append(f\"<{child.tag}>{child.text.strip()}</{child.tag}>\")\n",
        "\n",
        "        # Add tail text (text after the child element)\n",
        "        if child.tail:\n",
        "            result.append(child.tail.strip())\n",
        "\n",
        "    return \" \".join(result) # Return all parts as one text\n",
        "\n",
        "# Apply function to <content> tag\n",
        "full_content = extract_mixed_content(content)\n",
        "print(full_content)"
      ],
      "metadata": {
        "colab": {
          "base_uri": "https://localhost:8080/"
        },
        "id": "7nzadXcBm2fO",
        "outputId": "b985480c-8e89-4626-fec8-3359a810fce9"
      },
      "execution_count": 3,
      "outputs": [
        {
          "output_type": "stream",
          "name": "stdout",
          "text": [
            "Title: Understanding XML Mixed Content\n",
            "Author: Jane Doe\n",
            "\n",
            "--- content ---\n",
            "This article explains <emphasis>mixed content</emphasis> in XML. \n",
            "    Mixed content allows elements to contain both text and child elements. <example>Here's an example of</example> It's commonly used in document-centric XML applications. <list>Benefits of mixed content:</list> However, it can be more challenging to process than element-only content.\n"
          ]
        }
      ]
    }
  ]
}