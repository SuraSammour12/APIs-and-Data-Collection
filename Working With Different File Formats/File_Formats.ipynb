{
  "nbformat": 4,
  "nbformat_minor": 0,
  "metadata": {
    "colab": {
      "provenance": []
    },
    "kernelspec": {
      "name": "python3",
      "display_name": "Python 3"
    },
    "language_info": {
      "name": "python"
    }
  },
  "cells": [
    {
      "cell_type": "markdown",
      "source": [
        "# Working With Different File Formats"
      ],
      "metadata": {
        "id": "cyCOjoUXYI9_"
      }
    },
    {
      "cell_type": "markdown",
      "source": [
        " how to work with various common file formats using Python. These include CSV, JSON, and XML files.\n",
        "\n"
      ],
      "metadata": {
        "id": "wZLn-QdRYNdH"
      }
    },
    {
      "cell_type": "markdown",
      "source": [
        "1. CSV Files\n",
        "\n",
        "  CSV (Comma-Separated Values) files contain tabular data separated by commas.\n",
        "\n"
      ],
      "metadata": {
        "id": "Up-TRS0AYfMX"
      }
    },
    {
      "cell_type": "code",
      "source": [
        "# Required Library\n",
        "import pandas as pd"
      ],
      "metadata": {
        "id": "MRp2COrUb2PY"
      },
      "execution_count": 1,
      "outputs": []
    },
    {
      "cell_type": "code",
      "source": [
        "# Reading a CSV file\n",
        "df = pd.read_csv('industry.csv')\n",
        "print(df)"
      ],
      "metadata": {
        "colab": {
          "base_uri": "https://localhost:8080/"
        },
        "id": "00g9_6lMclQq",
        "outputId": "1ec4d896-e0b0-44d1-b302-f1ed73463c32"
      },
      "execution_count": 2,
      "outputs": [
        {
          "output_type": "stream",
          "name": "stdout",
          "text": [
            "                         Industry\n",
            "0              Accounting/Finance\n",
            "1    Advertising/Public Relations\n",
            "2              Aerospace/Aviation\n",
            "3   Arts/Entertainment/Publishing\n",
            "4                      Automotive\n",
            "5                Banking/Mortgage\n",
            "6            Business Development\n",
            "7            Business Opportunity\n",
            "8         Clerical/Administrative\n",
            "9         Construction/Facilities\n",
            "10                 Consumer Goods\n",
            "11               Customer Service\n",
            "12             Education/Training\n",
            "13               Energy/Utilities\n",
            "14                    Engineering\n",
            "15            Government/Military\n",
            "16                          Green\n",
            "17                     Healthcare\n",
            "18             Hospitality/Travel\n",
            "19                Human Resources\n",
            "20       Installation/Maintenance\n",
            "21                      Insurance\n",
            "22                       Internet\n",
            "23                Job Search Aids\n",
            "24       Law Enforcement/Security\n",
            "25                          Legal\n",
            "26           Management/Executive\n",
            "27       Manufacturing/Operations\n",
            "28                      Marketing\n",
            "29           Non-Profit/Volunteer\n",
            "30         Pharmaceutical/Biotech\n",
            "31          Professional Services\n",
            "32             QA/Quality Control\n",
            "33                    Real Estate\n",
            "34        Restaurant/Food Service\n",
            "35                         Retail\n",
            "36                          Sales\n",
            "37               Science/Research\n",
            "38                  Skilled Labor\n",
            "39                     Technology\n",
            "40             Telecommunications\n",
            "41       Transportation/Logistics\n",
            "42                          Other\n"
          ]
        }
      ]
    },
    {
      "cell_type": "markdown",
      "source": [
        "If the file does not contain headers, Adding headers manually\n",
        "\n",
        "df.columns = ['column1', 'column2', 'column3']"
      ],
      "metadata": {
        "id": "CurUrvIwc7FR"
      }
    },
    {
      "cell_type": "markdown",
      "source": [
        "\n",
        "\n",
        "---\n",
        "2. JSON Files\n",
        "\n",
        "   JSON (JavaScript Object Notation) is a text-based format similar to Python dictionaries, used to represent structured data.\n",
        "\n",
        "\n"
      ],
      "metadata": {
        "id": "YEqFTJQadfT6"
      }
    },
    {
      "cell_type": "code",
      "source": [
        "# Reading a JSON file\n",
        "\n",
        "df = pd.read_json('weather-parquet.json', lines=True)\n",
        "print(df)"
      ],
      "metadata": {
        "colab": {
          "base_uri": "https://localhost:8080/"
        },
        "id": "3smzg1UCeEBy",
        "outputId": "ba9ccc65-5c36-47f7-9baf-30faea25ec89"
      },
      "execution_count": 5,
      "outputs": [
        {
          "output_type": "stream",
          "name": "stdout",
          "text": [
            "     MinTemp  MaxTemp  Rainfall  Evaporation Sunshine WindGustDir  \\\n",
            "0        8.0     24.3       0.0          3.4      6.3          NW   \n",
            "1       14.0     26.9       3.6          4.4      9.7         ENE   \n",
            "2       13.7     23.4       3.6          5.8      3.3          NW   \n",
            "3       13.3     15.5      39.8          7.2      9.1          NW   \n",
            "4        7.6     16.1       2.8          5.6     10.6         SSE   \n",
            "..       ...      ...       ...          ...      ...         ...   \n",
            "361      9.0     30.7       0.0          7.6     12.1         NNW   \n",
            "362      7.1     28.4       0.0         11.6     12.7           N   \n",
            "363     12.5     19.9       0.0          8.4      5.3         ESE   \n",
            "364     12.5     26.9       0.0          5.0      7.1          NW   \n",
            "365     12.3     30.2       0.0          6.0     12.6          NW   \n",
            "\n",
            "    WindGustSpeed WindDir9am WindDir3pm WindSpeed9am  ...  Humidity3pm  \\\n",
            "0              30         SW         NW            6  ...           29   \n",
            "1              39          E          W            4  ...           36   \n",
            "2              85          N        NNE            6  ...           69   \n",
            "3              54        WNW          W           30  ...           56   \n",
            "4              50        SSE        ESE           20  ...           49   \n",
            "..            ...        ...        ...          ...  ...          ...   \n",
            "361            76        SSE         NW            7  ...           15   \n",
            "362            48        NNW        NNW            2  ...           22   \n",
            "363            43        ENE        ENE           11  ...           47   \n",
            "364            46        SSW        WNW            6  ...           39   \n",
            "365            78         NW        WNW           31  ...           13   \n",
            "\n",
            "     Pressure9am  Pressure3pm  Cloud9am  Cloud3pm  Temp9am  Temp3pm  \\\n",
            "0         1019.7       1015.0         7         7     14.4     23.6   \n",
            "1         1012.4       1008.4         5         3     17.5     25.7   \n",
            "2         1009.5       1007.2         8         7     15.4     20.2   \n",
            "3         1005.5       1007.0         2         7     13.5     14.1   \n",
            "4         1018.3       1018.5         7         7     11.1     15.4   \n",
            "..           ...          ...       ...       ...      ...      ...   \n",
            "361       1016.1       1010.8         1         3     20.4     30.0   \n",
            "362       1020.0       1016.9         0         1     17.2     28.2   \n",
            "363       1024.0       1022.8         3         2     14.5     18.3   \n",
            "364       1021.0       1016.2         6         7     15.8     25.9   \n",
            "365       1009.6       1009.2         1         1     23.8     28.6   \n",
            "\n",
            "     RainToday  RISK_MM RainTomorrow  \n",
            "0           No      3.6          Yes  \n",
            "1          Yes      3.6          Yes  \n",
            "2          Yes     39.8          Yes  \n",
            "3          Yes      2.8          Yes  \n",
            "4          Yes      0.0           No  \n",
            "..         ...      ...          ...  \n",
            "361         No      0.0           No  \n",
            "362         No      0.0           No  \n",
            "363         No      0.0           No  \n",
            "364         No      0.0           No  \n",
            "365         No      0.0           No  \n",
            "\n",
            "[366 rows x 22 columns]\n"
          ]
        }
      ]
    },
    {
      "cell_type": "markdown",
      "source": [
        "\n",
        "\n",
        "---\n",
        " 3. XML Files\n",
        "\n",
        "    XML (Extensible Markup Language) is used for storing and transporting structured data in a markup format.\n"
      ],
      "metadata": {
        "id": "-ddz0KQcg4hT"
      }
    },
    {
      "cell_type": "code",
      "source": [
        "# Reading and parsing XML\n",
        "import pandas as pd\n",
        "\n",
        "df = pd.read_xml(\"basic-structure.xml\")\n",
        "print(df)"
      ],
      "metadata": {
        "colab": {
          "base_uri": "https://localhost:8080/"
        },
        "id": "xQ5N-ci8hJJc",
        "outputId": "d143b297-8df4-4878-db2a-25d6c95ddc22"
      },
      "execution_count": 9,
      "outputs": [
        {
          "output_type": "stream",
          "name": "stdout",
          "text": [
            "         name  age         city\n",
            "0    John Doe   30     New York\n",
            "1  Jane Smith   25  Los Angeles\n"
          ]
        }
      ]
    }
  ]
}