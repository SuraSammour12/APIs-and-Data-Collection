{
  "nbformat": 4,
  "nbformat_minor": 0,
  "metadata": {
    "colab": {
      "provenance": []
    },
    "kernelspec": {
      "name": "python3",
      "display_name": "Python 3"
    },
    "language_info": {
      "name": "python"
    }
  },
  "cells": [
    {
      "cell_type": "markdown",
      "source": [
        "URL = https://cf-courses-data.s3.us.cloud-object-storage.appdomain.cloud/IBMDeveloperSkillsNetwork-PY0101EN-SkillsNetwork/labs/Module%205/data/Example1.txt\n",
        "\n",
        "Write the commands to download the txt file in the given link\n"
      ],
      "metadata": {
        "id": "ktWfVCFRDwhR"
      }
    },
    {
      "cell_type": "code",
      "source": [
        "url ='https://cf-courses-data.s3.us.cloud-object-storage.appdomain.cloud/IBMDeveloperSkillsNetwork-PY0101EN-SkillsNetwork/labs/Module%205/data/Example1.txt' # This is the internet address (link) of the file i want to download\n",
        "import os # Dealing with files and folders on the device\n",
        "import requests # deal with the Internet, I want to be able to go to links and retrieve files\n",
        "path = os.path.join(os.getcwd(),'example.txt') # getcwd(): Current Working Directory || This means i prepare the place where i will put the file after it is downloaded || Put the file in it, and name it example.txt\n",
        "r = requests.get(url) # Python, Go to the link and download the file, The downloaded file will be stored in the variable r\n",
        "with open(path,'wb') as f: # Open a new file called example.txt, and let me write in it the content I downloaded from the Internet || wb = means write the file as a file, not as a text file (in case it is an image or a file)\n",
        "  f.write(r.content)"
      ],
      "metadata": {
        "id": "F6aQE_zUD-f0"
      },
      "execution_count": 1,
      "outputs": []
    },
    {
      "cell_type": "markdown",
      "source": [
        " Result:\n",
        "\n",
        "✔️ I downloaded a file from the internet\n",
        "\n",
        "✔️ I named it example.txt\n",
        "\n",
        "✔️ I placed it in the project folder\n",
        "\n",
        "✔️ I let Python write the contents to it on its own"
      ],
      "metadata": {
        "id": "KDMHBd5GNaxh"
      }
    },
    {
      "cell_type": "markdown",
      "source": [
        "🧠 Remember it like this:\n",
        "\n",
        " \"Link + requests + place to save + open + write = I have the file\""
      ],
      "metadata": {
        "id": "ZCPgsra6Nwti"
      }
    },
    {
      "cell_type": "code",
      "source": [
        "# to open the file and see what's in it:\n",
        "with open('example.txt','r') as f:\n",
        "  print(f.read())\n",
        "\n"
      ],
      "metadata": {
        "colab": {
          "base_uri": "https://localhost:8080/"
        },
        "id": "FvkXEk15OCgX",
        "outputId": "7189b613-9873-4440-abfd-9f63f9557e26"
      },
      "execution_count": 2,
      "outputs": [
        {
          "output_type": "stream",
          "name": "stdout",
          "text": [
            "This is line 1 \n",
            "This is line 2\n",
            "This is line 3\n"
          ]
        }
      ]
    }
  ]
}