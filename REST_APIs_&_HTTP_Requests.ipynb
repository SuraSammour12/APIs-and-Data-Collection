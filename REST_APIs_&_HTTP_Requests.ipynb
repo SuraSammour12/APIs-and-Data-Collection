{
  "nbformat": 4,
  "nbformat_minor": 0,
  "metadata": {
    "colab": {
      "provenance": []
    },
    "kernelspec": {
      "name": "python3",
      "display_name": "Python 3"
    },
    "language_info": {
      "name": "python"
    }
  },
  "cells": [
    {
      "cell_type": "markdown",
      "source": [
        "**Python request library** to send **HTTP request** and interact with **REST APIs**\n",
        "\n",
        "* The request module\n",
        "\n",
        "* Making GET and POST request\n",
        "\n",
        "* Reading status codes, headers, and response bodies\n",
        "\n",
        "\n"
      ],
      "metadata": {
        "id": "p1R8BX7Co2b_"
      }
    },
    {
      "cell_type": "markdown",
      "source": [
        "The request library in Python is a powerful and simple tool for sending HTTP/1.1 request"
      ],
      "metadata": {
        "id": "aaT7wjxUpusQ"
      }
    },
    {
      "cell_type": "code",
      "execution_count": 2,
      "metadata": {
        "id": "BzyZW44aNBwl"
      },
      "outputs": [],
      "source": [
        "# importing the library\n",
        "import requests\n"
      ]
    },
    {
      "cell_type": "code",
      "source": [
        "# Sending a GET Request\n",
        "r = requests.get('http://www.ibm.com') # here r is the response object"
      ],
      "metadata": {
        "id": "aQ7oFPMoqgXw"
      },
      "execution_count": 3,
      "outputs": []
    },
    {
      "cell_type": "code",
      "source": [
        "# Checking Status Code\n",
        "print(r.status_code) # Output: 200 if OK"
      ],
      "metadata": {
        "colab": {
          "base_uri": "https://localhost:8080/"
        },
        "id": "5UI6fidiq0JJ",
        "outputId": "13978137-1795-4306-d5e2-17b4b2de36fb"
      },
      "execution_count": 4,
      "outputs": [
        {
          "output_type": "stream",
          "name": "stdout",
          "text": [
            "200\n"
          ]
        }
      ]
    },
    {
      "cell_type": "code",
      "source": [
        "# Request Headers\n",
        "print(r.request.headers)"
      ],
      "metadata": {
        "colab": {
          "base_uri": "https://localhost:8080/"
        },
        "id": "djoui96MrDKA",
        "outputId": "0ee04202-cbf1-44fc-aed3-e4bb9177893a"
      },
      "execution_count": 5,
      "outputs": [
        {
          "output_type": "stream",
          "name": "stdout",
          "text": [
            "{'User-Agent': 'python-requests/2.32.3', 'Accept-Encoding': 'gzip, deflate, zstd', 'Accept': '*/*', 'Connection': 'keep-alive', 'Cookie': '_abck=EF9BB29E53EDB972885288FA7A4064E2~-1~YAAQqonMF15Jt7SXAQAAJECrwA7LNacy/6V0U2zpXR73brDDKPJp3zlY/6tZEA4d4RGJ2FIuiCcC9JiY58f3oXyqjJVzCcauvaTEl7W9vHQl3ZLtg1ib5uchTQeSot9m2YJj+LZsoHRMmSpeJUxdFFjKwVqmQKxHQ2CV4Ap5v/mwy1A6xpIiAA9b5Hc+t1YUn+R7i010wYwFYcO5vwUmzBtHUO2/Apc5UoRx1Sv2JDHJBj0yMErexlth1lGuggTJfZlAuVlWZexA8WXWcz9+ChnPqQVvE/Nf8sccE2OVSkNXVtqgzm/jFDSiBsgNwW2sk17nOmM1g6ijQJNwRyC69X4AEz/NhSFDEyEZCe3FkK9ydOKYICd8O9ZMZ9WUFpIuTQM=~-1~-1~-1; bm_sz=9A51740FD10953089D0BE6493283623F~YAAQqonMF19Jt7SXAQAAJECrwBwLGX5nYIc9IHmcqnSVAgm1lG12nc07rODwlj07ez1Rm7hYnCGajQhdTZzLWIPTMlq/TEGNPOOTzzzbpA9OxiOiZ0zIPYTPfdYctymo8BZVVykJjY9xoElIbOIHmaF3ck2LffmqP4r3otxoHtOYXDH6J+TgRIncJIqlHCiNqUIcfGUK6qe7T+6A25Ne3vOB5/w1UO40LhEv/5hJWwM+yOq044XUnvGQcjssgUbKACOXqnYx4n7OpE6M75UzSO5FZQFdFRsepp+Gv1XNpJ3yT2F/QLi73hX91M8PyH3c2JP66H9aGk24h0133BzGs5srGwOBZpxiihA=~3552069~3290167'}\n"
          ]
        }
      ]
    },
    {
      "cell_type": "code",
      "source": [
        "# Request Bode (for GET)\n",
        "print(r.request.body) # None, because GET doesn't send data in body"
      ],
      "metadata": {
        "colab": {
          "base_uri": "https://localhost:8080/"
        },
        "id": "f4umbzOFrN0o",
        "outputId": "b1b19984-4485-4d92-896a-f28ee06476cc"
      },
      "execution_count": 6,
      "outputs": [
        {
          "output_type": "stream",
          "name": "stdout",
          "text": [
            "None\n"
          ]
        }
      ]
    },
    {
      "cell_type": "code",
      "source": [
        "# Response Headers\n",
        "print(r.headers) # Dictionary of response headers"
      ],
      "metadata": {
        "colab": {
          "base_uri": "https://localhost:8080/"
        },
        "id": "gkyK8w4-r85J",
        "outputId": "f635ac9b-e4b7-4e04-d905-7e95d756c8cf"
      },
      "execution_count": 7,
      "outputs": [
        {
          "output_type": "stream",
          "name": "stdout",
          "text": [
            "{'Content-Security-Policy': 'upgrade-insecure-requests', 'x-frame-options': 'SAMEORIGIN', 'Last-Modified': 'Mon, 30 Jun 2025 11:00:45 GMT', 'ETag': '\"29dac-638c7f08bce8b-gzip\"', 'Accept-Ranges': 'bytes', 'Content-Type': 'text/html;charset=utf-8', 'X-Content-Type-Options': 'nosniff', 'Cache-Control': 'max-age=600', 'Expires': 'Mon, 30 Jun 2025 11:58:58 GMT', 'X-Akamai-Transformed': '0 - 0 -', 'Content-Encoding': 'gzip', 'Date': 'Mon, 30 Jun 2025 11:48:58 GMT', 'Content-Length': '32695', 'Connection': 'keep-alive', 'Vary': 'Accept-Encoding', 'Strict-Transport-Security': 'max-age=31536000'}\n"
          ]
        }
      ]
    },
    {
      "cell_type": "code",
      "source": [
        "# Date of Request\n",
        "print(r.headers['Date'])"
      ],
      "metadata": {
        "colab": {
          "base_uri": "https://localhost:8080/"
        },
        "id": "KZPHtQ49sRVB",
        "outputId": "93551076-9b55-4481-82a0-9afef43bf895"
      },
      "execution_count": 8,
      "outputs": [
        {
          "output_type": "stream",
          "name": "stdout",
          "text": [
            "Mon, 30 Jun 2025 11:48:58 GMT\n"
          ]
        }
      ]
    },
    {
      "cell_type": "code",
      "source": [
        "# Content Type\n",
        "print(r.headers['Content-Type'])"
      ],
      "metadata": {
        "colab": {
          "base_uri": "https://localhost:8080/"
        },
        "id": "l0SmkKpqsZ94",
        "outputId": "928c2859-a8c4-4ad9-b1b5-ca43a981344e"
      },
      "execution_count": 9,
      "outputs": [
        {
          "output_type": "stream",
          "name": "stdout",
          "text": [
            "text/html;charset=utf-8\n"
          ]
        }
      ]
    },
    {
      "cell_type": "code",
      "source": [
        "# HTML Content\n",
        "print(r.text[:100]) # First 100 characters of the HTML body"
      ],
      "metadata": {
        "colab": {
          "base_uri": "https://localhost:8080/"
        },
        "id": "h8cZ92gusiyx",
        "outputId": "ea686ec4-e12f-4826-fdaa-3e401f868c89"
      },
      "execution_count": 12,
      "outputs": [
        {
          "output_type": "stream",
          "name": "stdout",
          "text": [
            "\n",
            "<!DOCTYPE HTML>\n",
            "<html lang=\"en\">\n",
            "<head>\r\n",
            "    \r\n",
            "    \r\n",
            "    \r\n",
            "    \r\n",
            "    \r\n",
            "    \r\n",
            "    \r\n",
            "      \r\n",
            "    \r\n",
            "  \n"
          ]
        }
      ]
    },
    {
      "cell_type": "markdown",
      "source": [
        "\n",
        "\n",
        "---\n",
        "\n"
      ],
      "metadata": {
        "id": "GbZ3-2tztjFF"
      }
    },
    {
      "cell_type": "code",
      "source": [
        "# Sending Query String in GET Requests\n",
        "# sending parameters in the URL using a dictionary\n",
        "payload = {'name':'Sura','ID':'123'}\n",
        "r = requests.get('http://httpbin.org/get',params=payload) # httpbin.org is a test server Dedicated to testing and experimenting with HTTP Requests"
      ],
      "metadata": {
        "id": "ywSUidvjtlox"
      },
      "execution_count": 14,
      "outputs": []
    },
    {
      "cell_type": "code",
      "source": [
        "# Inspecting the Request\n",
        "print(r.url)"
      ],
      "metadata": {
        "colab": {
          "base_uri": "https://localhost:8080/"
        },
        "id": "H4J7EyzvujpK",
        "outputId": "6f2ccc16-b985-4531-c9fb-15ec0dd23d16"
      },
      "execution_count": 15,
      "outputs": [
        {
          "output_type": "stream",
          "name": "stdout",
          "text": [
            "http://httpbin.org/get?name=Sura&ID=123\n"
          ]
        }
      ]
    },
    {
      "cell_type": "code",
      "source": [
        "# Request body\n",
        "print(r.request.body) # None"
      ],
      "metadata": {
        "colab": {
          "base_uri": "https://localhost:8080/"
        },
        "id": "OsGkfbzQu6Oa",
        "outputId": "2a1de595-c647-441f-c3f9-53726a1f3793"
      },
      "execution_count": 16,
      "outputs": [
        {
          "output_type": "stream",
          "name": "stdout",
          "text": [
            "None\n"
          ]
        }
      ]
    },
    {
      "cell_type": "code",
      "source": [
        "# Status Code\n",
        "print(r.status_code) # Output: 200 if OK"
      ],
      "metadata": {
        "colab": {
          "base_uri": "https://localhost:8080/"
        },
        "id": "yqf-K2q9vDuK",
        "outputId": "acc2ccf8-1446-48d5-faa7-d465fac9f14f"
      },
      "execution_count": 18,
      "outputs": [
        {
          "output_type": "stream",
          "name": "stdout",
          "text": [
            "200\n"
          ]
        }
      ]
    },
    {
      "cell_type": "code",
      "source": [
        "# Response as Text\n",
        "print(r.text)"
      ],
      "metadata": {
        "colab": {
          "base_uri": "https://localhost:8080/"
        },
        "id": "TnvlU-c5vbtD",
        "outputId": "74867ad0-58d5-4dd2-dbad-54e5667cb84b"
      },
      "execution_count": 19,
      "outputs": [
        {
          "output_type": "stream",
          "name": "stdout",
          "text": [
            "{\n",
            "  \"args\": {\n",
            "    \"ID\": \"123\", \n",
            "    \"name\": \"Sura\"\n",
            "  }, \n",
            "  \"headers\": {\n",
            "    \"Accept\": \"*/*\", \n",
            "    \"Accept-Encoding\": \"gzip, deflate, zstd\", \n",
            "    \"Host\": \"httpbin.org\", \n",
            "    \"User-Agent\": \"python-requests/2.32.3\", \n",
            "    \"X-Amzn-Trace-Id\": \"Root=1-68627d7f-54a98f15426d22d01c3ab860\"\n",
            "  }, \n",
            "  \"origin\": \"34.74.216.250\", \n",
            "  \"url\": \"http://httpbin.org/get?name=Sura&ID=123\"\n",
            "}\n",
            "\n"
          ]
        }
      ]
    },
    {
      "cell_type": "code",
      "source": [
        "# Check content type\n",
        "print(r.headers['Content-Type'])"
      ],
      "metadata": {
        "colab": {
          "base_uri": "https://localhost:8080/"
        },
        "id": "jSkQZdxfvjUK",
        "outputId": "24a92f2e-0f84-47b5-9c5a-aa07e60bd029"
      },
      "execution_count": 20,
      "outputs": [
        {
          "output_type": "stream",
          "name": "stdout",
          "text": [
            "application/json\n"
          ]
        }
      ]
    },
    {
      "cell_type": "code",
      "source": [
        "# Parse JSON response\n",
        "print(r.json()['args'])"
      ],
      "metadata": {
        "colab": {
          "base_uri": "https://localhost:8080/"
        },
        "id": "_t21SkXTvsyS",
        "outputId": "c2d1f7d2-435f-457b-80dc-15995e31c02d"
      },
      "execution_count": 21,
      "outputs": [
        {
          "output_type": "stream",
          "name": "stdout",
          "text": [
            "{'ID': '123', 'name': 'Sura'}\n"
          ]
        }
      ]
    },
    {
      "cell_type": "markdown",
      "source": [
        "\n",
        "\n",
        "---\n",
        "\n"
      ],
      "metadata": {
        "id": "lwCN_qS9xjS0"
      }
    },
    {
      "cell_type": "code",
      "source": [
        "# Sending Data via POST Request\n",
        "# Unlike GET, POST sends data in the request body, not the URL\n",
        "payload = {'name':'Ghazal','ID':'325'}\n",
        "r = requests.post('http://httpbin.org/post',data=payload)"
      ],
      "metadata": {
        "id": "D1dQM1gvxkC7"
      },
      "execution_count": 22,
      "outputs": []
    },
    {
      "cell_type": "code",
      "source": [
        "# Comparing with GET\n",
        "print(r.url) # Doesn't include query params"
      ],
      "metadata": {
        "colab": {
          "base_uri": "https://localhost:8080/"
        },
        "id": "PhzdTjGGym9d",
        "outputId": "a95f2264-9257-46fd-e66f-4692090c29c0"
      },
      "execution_count": 23,
      "outputs": [
        {
          "output_type": "stream",
          "name": "stdout",
          "text": [
            "http://httpbin.org/post\n"
          ]
        }
      ]
    },
    {
      "cell_type": "code",
      "source": [
        "# Request body\n",
        "print(r.request.body) # This time, it's not None"
      ],
      "metadata": {
        "colab": {
          "base_uri": "https://localhost:8080/"
        },
        "id": "4WAo-2Kty09N",
        "outputId": "0e8d14d9-160a-4523-8db9-b87d59362a17"
      },
      "execution_count": 24,
      "outputs": [
        {
          "output_type": "stream",
          "name": "stdout",
          "text": [
            "name=Ghazal&ID=325\n"
          ]
        }
      ]
    },
    {
      "cell_type": "code",
      "source": [
        "# Response data (form values)\n",
        "print(r.json()['form'])"
      ],
      "metadata": {
        "colab": {
          "base_uri": "https://localhost:8080/"
        },
        "id": "YwA-ul84zBQ9",
        "outputId": "fc9e8c99-1d4d-4190-eb47-7a01c8c9cb73"
      },
      "execution_count": 25,
      "outputs": [
        {
          "output_type": "stream",
          "name": "stdout",
          "text": [
            "{'ID': '325', 'name': 'Ghazal'}\n"
          ]
        }
      ]
    },
    {
      "cell_type": "markdown",
      "source": [
        "---\n",
        "\n",
        "### ✅ Summary:\n",
        "\n",
        "| Feature | GET Request | POST Request |\n",
        "| --- | --- | --- |\n",
        "| Data Location | URL (query string) | Request body |\n",
        "| Use Case | Retrieve data | Submit data |\n",
        "| Request Body | Usually None | Contains payload |\n",
        "| URL Parameters | Yes (visible) | No (data is hidden in body) |"
      ],
      "metadata": {
        "id": "Gz2RAeu_zThl"
      }
    }
  ]
}