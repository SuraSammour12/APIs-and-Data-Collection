{
  "nbformat": 4,
  "nbformat_minor": 0,
  "metadata": {
    "colab": {
      "provenance": []
    },
    "kernelspec": {
      "name": "python3",
      "display_name": "Python 3"
    },
    "language_info": {
      "name": "python"
    }
  },
  "cells": [
    {
      "cell_type": "markdown",
      "source": [
        "GET Request with URL Parameters\n",
        "\n",
        "The idea: request information from the server, and send it some questions or\n",
        "\n",
        "conditions at the end of the link (URL), and it returns an appropriate answer"
      ],
      "metadata": {
        "id": "EJ6n5wFITqOR"
      }
    },
    {
      "cell_type": "markdown",
      "source": [
        "\n",
        "\n",
        "---\n",
        "\n",
        "`httpbin` is a experiments website, which has ready-made paths on which i  can test requests such as GET and POST"
      ],
      "metadata": {
        "id": "6FwRieNZVLIq"
      }
    },
    {
      "cell_type": "code",
      "execution_count": 1,
      "metadata": {
        "id": "HKsg69xSTXqy"
      },
      "outputs": [],
      "source": [
        "# Base URL\n",
        "url_get = 'http://httpbin.org/get'"
      ]
    },
    {
      "cell_type": "markdown",
      "source": [
        "i add parameters (the questions i want to send in the line)"
      ],
      "metadata": {
        "id": "oiFlh-SyVxf8"
      }
    },
    {
      "cell_type": "code",
      "source": [
        "payload = {'name':'Sura','ID':'123'}"
      ],
      "metadata": {
        "id": "AxAEt6WLV5Gc"
      },
      "execution_count": 2,
      "outputs": []
    },
    {
      "cell_type": "markdown",
      "source": [
        "This is a `Query String` it's like ask the server: \"my name is sura and my ID is 123 what do you have for me?\""
      ],
      "metadata": {
        "id": "toM5iZOtWd1M"
      }
    },
    {
      "cell_type": "markdown",
      "source": [
        "Send the order"
      ],
      "metadata": {
        "id": "BfwlxBGBWs6u"
      }
    },
    {
      "cell_type": "code",
      "source": [
        "import requests\n",
        "r = requests.get(url_get, params=payload)"
      ],
      "metadata": {
        "id": "qjsVcYOXWv4f"
      },
      "execution_count": 3,
      "outputs": []
    },
    {
      "cell_type": "markdown",
      "source": [
        "Result: http://httpbin.org/get?name=Sura&ID=123"
      ],
      "metadata": {
        "id": "iRnJZPe7W_rv"
      }
    },
    {
      "cell_type": "code",
      "source": [
        "print(r.url) # The URL after attaching the parameters\n",
        "print(r.status_code) # Success status code (200 = OK)\n",
        "print('body:', r.request.body) # Will me empty in a GET request\n",
        "print(r.text) # The entire response as a string\n",
        "print('---------------------------------------------------------------------------------------------------------------')\n",
        "print(r.json()) # The entire response is in the form of a dict\n",
        "print(r.json()['args']) # only the values ​​(parameters) i sent in the GET link"
      ],
      "metadata": {
        "colab": {
          "base_uri": "https://localhost:8080/"
        },
        "id": "pX_pxFQnXOre",
        "outputId": "13802996-b894-417c-81ef-1e2cc8e00a63"
      },
      "execution_count": 9,
      "outputs": [
        {
          "output_type": "stream",
          "name": "stdout",
          "text": [
            "http://httpbin.org/get?name=Sura&ID=123\n",
            "200\n",
            "body: None\n",
            "{\n",
            "  \"args\": {\n",
            "    \"ID\": \"123\", \n",
            "    \"name\": \"Sura\"\n",
            "  }, \n",
            "  \"headers\": {\n",
            "    \"Accept\": \"*/*\", \n",
            "    \"Accept-Encoding\": \"gzip, deflate, zstd\", \n",
            "    \"Host\": \"httpbin.org\", \n",
            "    \"User-Agent\": \"python-requests/2.32.3\", \n",
            "    \"X-Amzn-Trace-Id\": \"Root=1-686471a0-77bb986c39c4a237383303f9\"\n",
            "  }, \n",
            "  \"origin\": \"35.237.213.232\", \n",
            "  \"url\": \"http://httpbin.org/get?name=Sura&ID=123\"\n",
            "}\n",
            "\n",
            "---------------------------------------------------------------------------------------------------------------\n",
            "{'args': {'ID': '123', 'name': 'Sura'}, 'headers': {'Accept': '*/*', 'Accept-Encoding': 'gzip, deflate, zstd', 'Host': 'httpbin.org', 'User-Agent': 'python-requests/2.32.3', 'X-Amzn-Trace-Id': 'Root=1-686471a0-77bb986c39c4a237383303f9'}, 'origin': '35.237.213.232', 'url': 'http://httpbin.org/get?name=Sura&ID=123'}\n",
            "{'ID': '123', 'name': 'Sura'}\n"
          ]
        }
      ]
    }
  ]
}