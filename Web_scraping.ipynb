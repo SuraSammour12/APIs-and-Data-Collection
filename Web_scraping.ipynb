{
  "nbformat": 4,
  "nbformat_minor": 0,
  "metadata": {
    "colab": {
      "provenance": []
    },
    "kernelspec": {
      "name": "python3",
      "display_name": "Python 3"
    },
    "language_info": {
      "name": "python"
    }
  },
  "cells": [
    {
      "cell_type": "markdown",
      "source": [
        "**Web scraping**\n",
        "\n",
        "Web scraping involves extracting information from web pages using Python. It can save time and automate data collection."
      ],
      "metadata": {
        "id": "gc5z-LiKNKSa"
      }
    },
    {
      "cell_type": "markdown",
      "source": [
        "**How web scraping works**\n",
        "\n",
        "* HTTP Request\n",
        "\n",
        "  Send a GET request to a website to retrieve its page content.\n",
        "\n",
        "* Web Page Retrieval\n",
        "\n",
        "  The server responds with the HTML code of the requested page.\n",
        "\n",
        "* HTML Parsing\n",
        "\n",
        "  Use BeautifulSoup to convert HTML into a structured, navigable format.\n",
        "\n",
        "* Data Extraction\n",
        "\n",
        "  Find and extract specific data using HTML tags and attributes.\n",
        "\n",
        "* Data Transformation\n",
        "\n",
        "  Clean or format the extracted data for further use.\n",
        "\n",
        "* Storage\n",
        "\n",
        "  Save the data to files like CSV, JSON, or databases.\n",
        "\n",
        "* Automation\n",
        "\n",
        "  Use scripts to repeat scraping automatically and regularly.\n",
        "\n"
      ],
      "metadata": {
        "id": "ZF6IaqSjNiSJ"
      }
    },
    {
      "cell_type": "markdown",
      "source": [
        "\n",
        "\n",
        "---\n",
        "\n",
        "**Required tools**\n",
        "To perform web scraping in Python, i need:\n",
        "\n",
        "\n",
        "- `requests`: To send HTTP requests and get the page content\n",
        "- `BeautifulSoup`: To parse and extract data from HTML"
      ],
      "metadata": {
        "id": "JwntGp9XOw5E"
      }
    },
    {
      "cell_type": "code",
      "source": [
        "# Install them using\n",
        "!pip install requests\n",
        "!pip install beautifulsoup4"
      ],
      "metadata": {
        "colab": {
          "base_uri": "https://localhost:8080/"
        },
        "id": "mwlJjMzBUJVF",
        "outputId": "cebd33d7-3ebf-46db-fd19-aa4480a77bdb"
      },
      "execution_count": 1,
      "outputs": [
        {
          "output_type": "stream",
          "name": "stdout",
          "text": [
            "Requirement already satisfied: requests in /usr/local/lib/python3.11/dist-packages (2.32.3)\n",
            "Requirement already satisfied: charset-normalizer<4,>=2 in /usr/local/lib/python3.11/dist-packages (from requests) (3.4.2)\n",
            "Requirement already satisfied: idna<4,>=2.5 in /usr/local/lib/python3.11/dist-packages (from requests) (3.10)\n",
            "Requirement already satisfied: urllib3<3,>=1.21.1 in /usr/local/lib/python3.11/dist-packages (from requests) (2.4.0)\n",
            "Requirement already satisfied: certifi>=2017.4.17 in /usr/local/lib/python3.11/dist-packages (from requests) (2025.6.15)\n",
            "Requirement already satisfied: beautifulsoup4 in /usr/local/lib/python3.11/dist-packages (4.13.4)\n",
            "Requirement already satisfied: soupsieve>1.2 in /usr/local/lib/python3.11/dist-packages (from beautifulsoup4) (2.7)\n",
            "Requirement already satisfied: typing-extensions>=4.0.0 in /usr/local/lib/python3.11/dist-packages (from beautifulsoup4) (4.14.0)\n"
          ]
        }
      ]
    },
    {
      "cell_type": "code",
      "source": [
        "# Import Libraries\n",
        "import requests\n",
        "from bs4 import BeautifulSoup"
      ],
      "metadata": {
        "id": "X3xIAgTZUfh-"
      },
      "execution_count": 1,
      "outputs": []
    },
    {
      "cell_type": "code",
      "source": [
        "# Fetch the Web Page\n",
        "\n",
        "# URL of the page to scrape\n",
        "url = 'https://www.aljazeera.net/'\n",
        "\n",
        "# Send HTTP GET request\n",
        "response = requests.get(url)\n",
        "\n",
        "# Get the HTML content\n",
        "html_content = response.text\n",
        "\n",
        "# Print first 500 characters of HTML\n",
        "print(html_content[:500])\n"
      ],
      "metadata": {
        "colab": {
          "base_uri": "https://localhost:8080/"
        },
        "id": "xu1KSifkUyQU",
        "outputId": "62256b0d-d17f-403f-81fc-038faf3fac1a"
      },
      "execution_count": 2,
      "outputs": [
        {
          "output_type": "stream",
          "name": "stdout",
          "text": [
            "<!doctype html><html lang=\"ar\" dir=\"rtl\" class=\"theme-aja\"><head><meta charset=\"utf-8\"/><meta name=\"viewport\" content=\"width=device-width,initial-scale=1,shrink-to-fit=no\"/><meta http-equiv=\"content-type\" content=\"text/html; charset=UTF-8\"/><meta http-equiv=\"X-UA-Compatible\" content=\"IE=edge,chrome=1\"><link rel=\"shortcut icon\" href=\"/favicon_aja.ico\"><title data-rh=\"true\">الجزيرة نت: آخر أخبار اليوم حول العالم</title><meta data-rh=\"true\" name=\"description\" content=\"الأخبار والتحليلات من الشرق ال\n"
          ]
        }
      ]
    },
    {
      "cell_type": "code",
      "source": [
        "# Parse HTML with BeautifulSoup\n",
        "soup = BeautifulSoup(html_content, 'html.parser')"
      ],
      "metadata": {
        "id": "AJ2e3qW0YsDn"
      },
      "execution_count": 3,
      "outputs": []
    },
    {
      "cell_type": "code",
      "source": [
        "print(soup.title)\n",
        "print(soup.title.text)\n",
        "\n",
        "print(soup.h1)\n",
        "print(soup.h1.text)"
      ],
      "metadata": {
        "colab": {
          "base_uri": "https://localhost:8080/"
        },
        "id": "6lraCLKWaEpQ",
        "outputId": "2a9656ab-1d16-46ce-d624-04fd320af07f"
      },
      "execution_count": 4,
      "outputs": [
        {
          "output_type": "stream",
          "name": "stdout",
          "text": [
            "<title data-rh=\"true\">الجزيرة نت: آخر أخبار اليوم حول العالم</title>\n",
            "الجزيرة نت: آخر أخبار اليوم حول العالم\n",
            "<h1>للجزيرة</h1>\n",
            "للجزيرة\n"
          ]
        }
      ]
    },
    {
      "cell_type": "code",
      "source": [
        "# Find All Links (Anchor Tags <a>)\n",
        "links = soup.find_all('a')\n",
        "\n",
        "# Print the text of each link\n",
        "for link in links:\n",
        "  print(link.text)"
      ],
      "metadata": {
        "colab": {
          "base_uri": "https://localhost:8080/"
        },
        "id": "DUgQ1lgVadqx",
        "outputId": "3bfeca99-3cc8-4245-c4bd-609042688aa8"
      },
      "execution_count": 5,
      "outputs": [
        {
          "output_type": "stream",
          "name": "stdout",
          "text": [
            "اذهب إلى المحتوى المميّز\n",
            "اذهب إلى تغذية المحتوى\n",
            "انتقل إلى الأكثر قراءة\n",
            "رابط إلى الصفحة الرئيسية للجزيرة\n",
            "play البث الحي \n",
            "أخبار\n",
            "حرب إسرائيل وإيران\n",
            "سوريا الجديدة\n",
            "طوفان الأقصى\n",
            "الأزمة السودانية\n",
            "حرب أوكرانيا\n",
            "أفريقيا\n",
            "أبعاد\n",
            "رياضة\n",
            "مقالات\n",
            "بيئة\n",
            "اقتصاد\n",
            "ثقافة\n",
            "فيديو\n",
            "سفر\n",
            "صحة\n",
            "سياسة\n",
            "تكنولوجيا\n",
            "مدونات\n",
            "الموسوعة\n",
            "تراث\n",
            "فن\n",
            "علوم\n",
            "أسلوب حياة\n",
            "معمّقة\n",
            "القدس\n",
            "أسرة\n",
            "منوعات\n",
            "حريات\n",
            "إذاعة\n",
            "بالصور\n",
            "play البث الحي \n",
            "الآن\n",
            "إيران\n",
            "سوريا\n",
            "فلسطين\n",
            "السودان\n",
            "أوكرانيا\n",
            "\n",
            "الحرب على غزة.. عشرات الشهداء بقصف إسرائيلي على مطعم ومعارك محتدمة بخان يونس\n",
            "الاحتلال يقتحم قرى بنابلس وجنين\n",
            "مسؤول أميركي: ترامب يرغب في إنهاء الحرب بغزة\n",
            "تركيا تلاحق صحفيين رسما صورة للنبي محمد صلى الله عليه وسلم\n",
            "تركيا تلاحق صحفيين رسما صورة للنبي محمد صلى الله عليه وسلم\n",
            "مقالاتمقالات, \n",
            "كيف تخبرنا حرب إيران وإسرائيل بقرب انتهاء المشروع الصهيوني؟\n",
            "عياد أبلال\n",
            "مقالاتمقالات, \n",
            "كيف تخبرنا حرب إيران وإسرائيل بقرب انتهاء المشروع الصهيوني؟\n",
            "عياد أبلال\n",
            "فلومينسيني يهزم إنتر ويبلغ ربع نهائي كأس العالم للأندية\n",
            "ترامب يوقع أمرا تنفيذيا لإنهاء العقوبات على سوريا\n",
            "لوموند: بعد سيندور الهند تجد نفسها معزولة على الساحة الدولية\n",
            "هل يدفع شبح إسرائيل لتسريع التحالف بين إيران وباكستان؟\n",
            "أغرب شروط للتأشيرة تفرضها بعض دول العالم\n",
            "المقاومة تدمر آليتين وتوقع قوة إسرائيلية بكمين شرقي خان يونس\n",
            "مسرحية \"أشلاء\" صرخة من بشاعة الحرب وتأثيرها النفسي\n",
            "سوق الكوكايين العالمية تحطم أرقاما قياسية.. ماذا عن الكبتاغون؟\n",
            "\"شُواظ\".. عبوة قسامية حطمت أسطورة الدبابة الإسرائيلية \"ميركافا\"\n",
            "سجل إجرامي للمستوطنين بالضفة ضمن لعبة تبادل الأدوار\n",
            "ممداني يلهم مسلمي نيويورك ويتسلح بأصواتهم للجولة الحاسمة\n",
            "ماذا وراء استقالة رئيس المحكمة الاتحادية العليا بالعراق؟\n",
            "فايننشال تايمز: الصين لا تزال تعوق تصدير مزيد من المعادن النادرة\n",
            "رفع الأجور في لبنان إنقاذ أم مجازفة؟\n",
            "النفط ينخفض بتقلص التوتر بالشرق الأوسط والذهب يرتفع مع تراجع الدولار\n",
            "جنوب قطاع غزة يكبد الاحتلال خسائر كبيرة في جنوده وهيبته\n",
            "\"ما وراء الخبر\" يناقش مستقبل المفاوضات الإيرانية مع الغرب\n",
            "كيف تلطخ \"مصايد الموت\" في غزة أكياس الطحين بالدم؟\n",
            "عشرات الشهداء بقصف إسرائيلي استهدف استراحة ترفيهية على شاطئ غزة\n",
            "\n",
            "مباشر.. مباراة الهلال ضد مانشستر سيتي (0-0) في كأس العالم للأندية\n",
            "وصول فريق مانشستر سيتي إلى الملعب\n",
            "تشكيلة الهلال\n",
            "تشكيلة مانشستر سيتي\n",
            "وصول لاعبي الهلال إلى الملعب\n",
            "facebook\n",
            "twitter\n",
            "whatsapp\n",
            "copylink\n",
            "مقالات الرأي\n",
            "كيف تخبرنا حرب إيران وإسرائيل بقرب انتهاء المشروع الصهيوني؟مقال رأي بقلمعياد أبلال\n",
            "4 خروقات تفضح إسرائيل في حربها مع إيرانمقال رأي بقلمد. محمود الحنفي\n",
            "فوز \"زهران ممداني\" في نيويورك وتدشين \"سياسة غزة\"مقال رأي بقلمهشام جعفر\n",
            "هدنة هشّة بين إيران وإسرائيل تخفي أكثر مما تُظهرمقال رأي بقلممحمد العودات\n",
            "لماذا أفريقيا أولوية لإيران بعد الحرب؟مقال رأي بقلمالصادق الرزيقي\n",
            "فزع أميركا من انهيار وشيكمقال رأي بقلمكمال أوزتورك\n",
            "محللون: ترامب يقايض نتنياهو بالعفو لإنهاء الحرب وإنقاذ مستقبله السياسي\n",
            "الناتو يتحصن خلف \"جدار المسيّرات\" في مواجهة روسيا\n",
            "قصة أكجوجت الموريتانية أرض الذهب والعطش\n",
            "facebook\n",
            "twitter\n",
            "whatsapp\n",
            "copylink\n",
            "حماس: قدمنا رؤية لإبرام صفقة شاملة ونتنياهو يريد استثمار حرب إيران\n",
            "إسرائيل تُقر باستهداف طالبي المساعدات في غزة\n",
            "\n",
            "غزة تحت الحصار الغذائي: كارثة صحية صامتة\n",
            "quotes\n",
            "\n",
            "الإنسان العربي المتشظي وسط الصراع\n",
            "quotes\n",
            "\n",
            "مغادرة الأرض.. قيم أخلاقية من الهجرة النبوية\n",
            "quotes\n",
            "\n",
            "حين يتحول \"فيسبوك\" من منصة اجتماعية إلى غرفة صدى للألم\n",
            "quotes\n",
            "\n",
            "الإيلاستيكو: رقصة القدم الساحرة التي حوّلت الملاعب لمسارح فنية\n",
            "quotes\n",
            "كيف تخبرنا حرب إيران وإسرائيل بقرب انتهاء المشروع الصهيوني؟\n",
            "فزع أميركا من انهيار وشيك\n",
            "الرؤساء الثلاثة يرمون بطوق النجاة لنتنياهو\n",
            "دوران الأرض \"يتسارع\" والأسباب غير واضحة إلى الآن\n",
            "تركيا تلاحق صحفيين رسما صورة للنبي محمد صلى الله عليه وسلم\n",
            "لوموند: بعد سيندور الهند تجد نفسها معزولة على الساحة الدولية\n",
            "الحرب على غزة مباشر.. عشرات الشهداء بقصف إسرائيلي على مطعم ومعارك محتدمة بخان يونس\n",
            "هل يدفع شبح إسرائيل لتسريع التحالف بين إيران وباكستان؟\n",
            "أغرب شروط للتأشيرة تفرضها بعض دول العالم\n",
            "حماس: قدمنا رؤية لإبرام صفقة شاملة ونتنياهو يريد استثمار حرب إيران\n",
            "من نحن\n",
            "الأحكام والشروط\n",
            "سياسة الخصوصية\n",
            "سياسة ملفات تعريف الارتباط\n",
            "تفضيلات ملفات تعريف الارتباط\n",
            "خريطة الموقع\n",
            "تواصل معنا\n",
            "احصل على المساعدة\n",
            "أعلن معنا\n",
            "ابق على اتصال\n",
            "النشرات البريدية\n",
            "رابط بديل\n",
            "ترددات البث\n",
            "بيانات صحفية\n",
            "مركز الجزيرة للدراسات\n",
            "معهد الجزيرة للإعلام\n",
            "تعلم العربية\n",
            "مركز الجزيرة للحريات العامة وحقوق الإنسان\n",
            "الجزيرة الإخبارية\n",
            "الجزيرة الإنجليزي\n",
            "الجزيرة مباشر\n",
            "الجزيرة الوثائقية\n",
            "الجزيرة البلقان\n",
            "عربي AJ+\n",
            "facebook\n",
            "twitter\n",
            "youtube\n",
            "instagram-colored-outline\n",
            "rss\n",
            "whatsapp\n",
            "telegram\n",
            "tiktok-colored-outline\n"
          ]
        }
      ]
    },
    {
      "cell_type": "code",
      "source": [
        "# Custom Data Extraction Example\n",
        "# I can extract elements by tag, class, ID, or text\n",
        "\n",
        "all_p = soup.find_all('p')\n",
        "print(f\"Total paragraphs found: {len(all_p)}\")\n",
        "\n",
        "for i,p in enumerate(all_p[:5]):\n",
        "  print(f'\\nParagraph {i+1}:\\n{p.text.strip()}')\n"
      ],
      "metadata": {
        "colab": {
          "base_uri": "https://localhost:8080/"
        },
        "id": "zvwVUgo9bMR5",
        "outputId": "774df48c-3a7c-406d-e728-d8faaadd8d7d"
      },
      "execution_count": 6,
      "outputs": [
        {
          "output_type": "stream",
          "name": "stdout",
          "text": [
            "Total paragraphs found: 22\n",
            "\n",
            "Paragraph 1:\n",
            "أمر المدعي العام في إسطنبول الاثنين، بتوقيف صحفييْن في إحدى المجلات الساخرة الكبرى في تركيا بسبب نشر رسم كاريكاتوري يصور النبي محمد صلى الله عليه، حسبما ذكرت وسائل إعلام محلية.\n",
            "\n",
            "Paragraph 2:\n",
            "أمر المدعي العام في إسطنبول الاثنين، بتوقيف صحفييْن في إحدى المجلات الساخرة الكبرى في تركيا بسبب نشر رسم كاريكاتوري يصور النبي محمد صلى الله عليه، حسبما ذكرت وسائل إعلام محلية.\n",
            "\n",
            "Paragraph 3:\n",
            "بينما تزداد الضغوط الدولية لإنهاء الحرب على قطاع غزة، تبرز ملامح صفقة غير تقليدية تتداخل فيها الحسابات السياسية مع الملفات القضائية، حيث يطرح ترامب، خيار العفو عن نتنياهو كأداة ضغط لينهي الحرب.\n",
            "\n",
            "Paragraph 4:\n",
            "على مستوى الناتو، تتحدث تقارير صحفية منذ نحو عام عن مشاورات بشأن التأسيس لجدار مراقبة مكون من طائرات بدون طيار يمتد من النرويج إلى بولندا.\n",
            "\n",
            "Paragraph 5:\n",
            "تحولت مدينة أكجوجت، في نظر الكثيرين، إلى نموذج حي على فشل التنمية في موريتانيا، فهي تملك ثروات معدنية ضخمة، لكنها تفتقر إلى أبسط الخدمات الأساسية كالطاقة والماء والتعليم والرعاية الصحية.\n"
          ]
        }
      ]
    },
    {
      "cell_type": "code",
      "source": [
        "divs = soup.find_all('div',class_='article-trending__content')\n",
        "for div in divs[:2]: # limit output\n",
        "   print(div.text[:300])"
      ],
      "metadata": {
        "colab": {
          "base_uri": "https://localhost:8080/"
        },
        "id": "VJYcjVnQohtk",
        "outputId": "e2fef487-1bc7-4b0b-8cf0-95142fa646b1"
      },
      "execution_count": 10,
      "outputs": [
        {
          "output_type": "stream",
          "name": "stdout",
          "text": [
            "كيف تخبرنا حرب إيران وإسرائيل بقرب انتهاء المشروع الصهيوني؟\n",
            "فزع أميركا من انهيار وشيك\n"
          ]
        }
      ]
    },
    {
      "cell_type": "code",
      "source": [
        "# Print all trends\n",
        "for i, div in enumerate(divs):\n",
        "    print(f\"Trending #{i+1}: {div.text.strip()}\")"
      ],
      "metadata": {
        "colab": {
          "base_uri": "https://localhost:8080/"
        },
        "id": "xwaY8zYcX9RH",
        "outputId": "b700471b-8223-4c33-d0fa-14db8b91c0bc"
      },
      "execution_count": 12,
      "outputs": [
        {
          "output_type": "stream",
          "name": "stdout",
          "text": [
            "Trending #1: كيف تخبرنا حرب إيران وإسرائيل بقرب انتهاء المشروع الصهيوني؟\n",
            "Trending #2: فزع أميركا من انهيار وشيك\n",
            "Trending #3: الرؤساء الثلاثة يرمون بطوق النجاة لنتنياهو\n",
            "Trending #4: دوران الأرض \"يتسارع\" والأسباب غير واضحة إلى الآن\n",
            "Trending #5: تركيا تلاحق صحفيين رسما صورة للنبي محمد صلى الله عليه وسلم\n",
            "Trending #6: لوموند: بعد سيندور الهند تجد نفسها معزولة على الساحة الدولية\n",
            "Trending #7: الحرب على غزة مباشر.. عشرات الشهداء بقصف إسرائيلي على مطعم ومعارك محتدمة بخان يونس\n",
            "Trending #8: هل يدفع شبح إسرائيل لتسريع التحالف بين إيران وباكستان؟\n",
            "Trending #9: أغرب شروط للتأشيرة تفرضها بعض دول العالم\n",
            "Trending #10: حماس: قدمنا رؤية لإبرام صفقة شاملة ونتنياهو يريد استثمار حرب إيران\n"
          ]
        }
      ]
    },
    {
      "cell_type": "code",
      "source": [
        "# Store them in a list\n",
        "trending_articles = [div.text.strip() for div in divs]\n",
        "print(trending_articles)"
      ],
      "metadata": {
        "colab": {
          "base_uri": "https://localhost:8080/"
        },
        "id": "PheryZETeDZk",
        "outputId": "89c104b9-90a8-4d75-bbe7-43dbe6ca34e6"
      },
      "execution_count": 13,
      "outputs": [
        {
          "output_type": "stream",
          "name": "stdout",
          "text": [
            "['كيف تخبرنا حرب إيران وإسرائيل بقرب انتهاء المشروع الصهيوني؟', 'فزع أميركا من انهيار وشيك', 'الرؤساء الثلاثة يرمون بطوق النجاة لنتنياهو', 'دوران الأرض \"يتسارع\" والأسباب غير واضحة إلى الآن', 'تركيا تلاحق صحفيين رسما صورة للنبي محمد صلى الله عليه وسلم', 'لوموند: بعد سيندور الهند تجد نفسها معزولة على الساحة الدولية', 'الحرب على غزة مباشر.. عشرات الشهداء بقصف إسرائيلي على مطعم ومعارك محتدمة بخان يونس', 'هل يدفع شبح إسرائيل لتسريع التحالف بين إيران وباكستان؟', 'أغرب شروط للتأشيرة تفرضها بعض دول العالم', 'حماس: قدمنا رؤية لإبرام صفقة شاملة ونتنياهو يريد استثمار حرب إيران']\n"
          ]
        }
      ]
    },
    {
      "cell_type": "code",
      "source": [
        "# OR Store them in a CSV file\n",
        "import pandas as pd\n",
        "df = pd.DataFrame({'Trending News': trending_articles})\n",
        "df.to_csv('aljazeera_trending.csv',index=False)\n",
        "print('Saved to aljazeera_trending.csv ✅')"
      ],
      "metadata": {
        "colab": {
          "base_uri": "https://localhost:8080/"
        },
        "id": "sRLzKvFEeZUy",
        "outputId": "da59ffd0-64a3-44f3-e21c-9eee22332e75"
      },
      "execution_count": 14,
      "outputs": [
        {
          "output_type": "stream",
          "name": "stdout",
          "text": [
            "Saved to aljazeera_trending.csv ✅\n"
          ]
        }
      ]
    },
    {
      "cell_type": "code",
      "source": [
        "# Extract Tables using: pandas.read_html\n",
        "import pandas as pd\n",
        "\n",
        "# Automatically find and extract tables from the page\n",
        "tables = pd.read_html(url)\n",
        "\n",
        "# Show how many tables were found\n",
        "print(f'Total tables found: {len(tables)}')\n",
        "\n",
        "# Display the first table\n",
        "tables[0].head()\n"
      ],
      "metadata": {
        "colab": {
          "base_uri": "https://localhost:8080/",
          "height": 356
        },
        "id": "XLQEUi9Qfi1r",
        "outputId": "07586812-b49a-4259-bb26-0d5d476d5783"
      },
      "execution_count": 17,
      "outputs": [
        {
          "output_type": "error",
          "ename": "ValueError",
          "evalue": "No tables found",
          "traceback": [
            "\u001b[0;31m---------------------------------------------------------------------------\u001b[0m",
            "\u001b[0;31mValueError\u001b[0m                                Traceback (most recent call last)",
            "\u001b[0;32m/tmp/ipython-input-17-3874003128.py\u001b[0m in \u001b[0;36m<cell line: 0>\u001b[0;34m()\u001b[0m\n\u001b[1;32m      3\u001b[0m \u001b[0;34m\u001b[0m\u001b[0m\n\u001b[1;32m      4\u001b[0m \u001b[0;31m# Automatically find and extract tables from the page\u001b[0m\u001b[0;34m\u001b[0m\u001b[0;34m\u001b[0m\u001b[0m\n\u001b[0;32m----> 5\u001b[0;31m \u001b[0mtables\u001b[0m \u001b[0;34m=\u001b[0m \u001b[0mpd\u001b[0m\u001b[0;34m.\u001b[0m\u001b[0mread_html\u001b[0m\u001b[0;34m(\u001b[0m\u001b[0murl\u001b[0m\u001b[0;34m)\u001b[0m\u001b[0;34m\u001b[0m\u001b[0;34m\u001b[0m\u001b[0m\n\u001b[0m\u001b[1;32m      6\u001b[0m \u001b[0;34m\u001b[0m\u001b[0m\n\u001b[1;32m      7\u001b[0m \u001b[0;31m# Show how many tables were found\u001b[0m\u001b[0;34m\u001b[0m\u001b[0;34m\u001b[0m\u001b[0m\n",
            "\u001b[0;32m/usr/local/lib/python3.11/dist-packages/pandas/io/html.py\u001b[0m in \u001b[0;36mread_html\u001b[0;34m(io, match, flavor, header, index_col, skiprows, attrs, parse_dates, thousands, encoding, decimal, converters, na_values, keep_default_na, displayed_only, extract_links, dtype_backend, storage_options)\u001b[0m\n\u001b[1;32m   1238\u001b[0m         )\n\u001b[1;32m   1239\u001b[0m \u001b[0;34m\u001b[0m\u001b[0m\n\u001b[0;32m-> 1240\u001b[0;31m     return _parse(\n\u001b[0m\u001b[1;32m   1241\u001b[0m         \u001b[0mflavor\u001b[0m\u001b[0;34m=\u001b[0m\u001b[0mflavor\u001b[0m\u001b[0;34m,\u001b[0m\u001b[0;34m\u001b[0m\u001b[0;34m\u001b[0m\u001b[0m\n\u001b[1;32m   1242\u001b[0m         \u001b[0mio\u001b[0m\u001b[0;34m=\u001b[0m\u001b[0mio\u001b[0m\u001b[0;34m,\u001b[0m\u001b[0;34m\u001b[0m\u001b[0;34m\u001b[0m\u001b[0m\n",
            "\u001b[0;32m/usr/local/lib/python3.11/dist-packages/pandas/io/html.py\u001b[0m in \u001b[0;36m_parse\u001b[0;34m(flavor, io, match, attrs, encoding, displayed_only, extract_links, storage_options, **kwargs)\u001b[0m\n\u001b[1;32m   1001\u001b[0m     \u001b[0;32melse\u001b[0m\u001b[0;34m:\u001b[0m\u001b[0;34m\u001b[0m\u001b[0;34m\u001b[0m\u001b[0m\n\u001b[1;32m   1002\u001b[0m         \u001b[0;32massert\u001b[0m \u001b[0mretained\u001b[0m \u001b[0;32mis\u001b[0m \u001b[0;32mnot\u001b[0m \u001b[0;32mNone\u001b[0m  \u001b[0;31m# for mypy\u001b[0m\u001b[0;34m\u001b[0m\u001b[0;34m\u001b[0m\u001b[0m\n\u001b[0;32m-> 1003\u001b[0;31m         \u001b[0;32mraise\u001b[0m \u001b[0mretained\u001b[0m\u001b[0;34m\u001b[0m\u001b[0;34m\u001b[0m\u001b[0m\n\u001b[0m\u001b[1;32m   1004\u001b[0m \u001b[0;34m\u001b[0m\u001b[0m\n\u001b[1;32m   1005\u001b[0m     \u001b[0mret\u001b[0m \u001b[0;34m=\u001b[0m \u001b[0;34m[\u001b[0m\u001b[0;34m]\u001b[0m\u001b[0;34m\u001b[0m\u001b[0;34m\u001b[0m\u001b[0m\n",
            "\u001b[0;32m/usr/local/lib/python3.11/dist-packages/pandas/io/html.py\u001b[0m in \u001b[0;36m_parse\u001b[0;34m(flavor, io, match, attrs, encoding, displayed_only, extract_links, storage_options, **kwargs)\u001b[0m\n\u001b[1;32m    981\u001b[0m \u001b[0;34m\u001b[0m\u001b[0m\n\u001b[1;32m    982\u001b[0m         \u001b[0;32mtry\u001b[0m\u001b[0;34m:\u001b[0m\u001b[0;34m\u001b[0m\u001b[0;34m\u001b[0m\u001b[0m\n\u001b[0;32m--> 983\u001b[0;31m             \u001b[0mtables\u001b[0m \u001b[0;34m=\u001b[0m \u001b[0mp\u001b[0m\u001b[0;34m.\u001b[0m\u001b[0mparse_tables\u001b[0m\u001b[0;34m(\u001b[0m\u001b[0;34m)\u001b[0m\u001b[0;34m\u001b[0m\u001b[0;34m\u001b[0m\u001b[0m\n\u001b[0m\u001b[1;32m    984\u001b[0m         \u001b[0;32mexcept\u001b[0m \u001b[0mValueError\u001b[0m \u001b[0;32mas\u001b[0m \u001b[0mcaught\u001b[0m\u001b[0;34m:\u001b[0m\u001b[0;34m\u001b[0m\u001b[0;34m\u001b[0m\u001b[0m\n\u001b[1;32m    985\u001b[0m             \u001b[0;31m# if `io` is an io-like object, check if it's seekable\u001b[0m\u001b[0;34m\u001b[0m\u001b[0;34m\u001b[0m\u001b[0m\n",
            "\u001b[0;32m/usr/local/lib/python3.11/dist-packages/pandas/io/html.py\u001b[0m in \u001b[0;36mparse_tables\u001b[0;34m(self)\u001b[0m\n\u001b[1;32m    247\u001b[0m         \u001b[0mlist\u001b[0m \u001b[0mof\u001b[0m \u001b[0mparsed\u001b[0m \u001b[0;34m(\u001b[0m\u001b[0mheader\u001b[0m\u001b[0;34m,\u001b[0m \u001b[0mbody\u001b[0m\u001b[0;34m,\u001b[0m \u001b[0mfooter\u001b[0m\u001b[0;34m)\u001b[0m \u001b[0mtuples\u001b[0m \u001b[0;32mfrom\u001b[0m \u001b[0mtables\u001b[0m\u001b[0;34m.\u001b[0m\u001b[0;34m\u001b[0m\u001b[0;34m\u001b[0m\u001b[0m\n\u001b[1;32m    248\u001b[0m         \"\"\"\n\u001b[0;32m--> 249\u001b[0;31m         \u001b[0mtables\u001b[0m \u001b[0;34m=\u001b[0m \u001b[0mself\u001b[0m\u001b[0;34m.\u001b[0m\u001b[0m_parse_tables\u001b[0m\u001b[0;34m(\u001b[0m\u001b[0mself\u001b[0m\u001b[0;34m.\u001b[0m\u001b[0m_build_doc\u001b[0m\u001b[0;34m(\u001b[0m\u001b[0;34m)\u001b[0m\u001b[0;34m,\u001b[0m \u001b[0mself\u001b[0m\u001b[0;34m.\u001b[0m\u001b[0mmatch\u001b[0m\u001b[0;34m,\u001b[0m \u001b[0mself\u001b[0m\u001b[0;34m.\u001b[0m\u001b[0mattrs\u001b[0m\u001b[0;34m)\u001b[0m\u001b[0;34m\u001b[0m\u001b[0;34m\u001b[0m\u001b[0m\n\u001b[0m\u001b[1;32m    250\u001b[0m         \u001b[0;32mreturn\u001b[0m \u001b[0;34m(\u001b[0m\u001b[0mself\u001b[0m\u001b[0;34m.\u001b[0m\u001b[0m_parse_thead_tbody_tfoot\u001b[0m\u001b[0;34m(\u001b[0m\u001b[0mtable\u001b[0m\u001b[0;34m)\u001b[0m \u001b[0;32mfor\u001b[0m \u001b[0mtable\u001b[0m \u001b[0;32min\u001b[0m \u001b[0mtables\u001b[0m\u001b[0;34m)\u001b[0m\u001b[0;34m\u001b[0m\u001b[0;34m\u001b[0m\u001b[0m\n\u001b[1;32m    251\u001b[0m \u001b[0;34m\u001b[0m\u001b[0m\n",
            "\u001b[0;32m/usr/local/lib/python3.11/dist-packages/pandas/io/html.py\u001b[0m in \u001b[0;36m_parse_tables\u001b[0;34m(self, document, match, attrs)\u001b[0m\n\u001b[1;32m    596\u001b[0m         \u001b[0mtables\u001b[0m \u001b[0;34m=\u001b[0m \u001b[0mdocument\u001b[0m\u001b[0;34m.\u001b[0m\u001b[0mfind_all\u001b[0m\u001b[0;34m(\u001b[0m\u001b[0melement_name\u001b[0m\u001b[0;34m,\u001b[0m \u001b[0mattrs\u001b[0m\u001b[0;34m=\u001b[0m\u001b[0mattrs\u001b[0m\u001b[0;34m)\u001b[0m\u001b[0;34m\u001b[0m\u001b[0;34m\u001b[0m\u001b[0m\n\u001b[1;32m    597\u001b[0m         \u001b[0;32mif\u001b[0m \u001b[0;32mnot\u001b[0m \u001b[0mtables\u001b[0m\u001b[0;34m:\u001b[0m\u001b[0;34m\u001b[0m\u001b[0;34m\u001b[0m\u001b[0m\n\u001b[0;32m--> 598\u001b[0;31m             \u001b[0;32mraise\u001b[0m \u001b[0mValueError\u001b[0m\u001b[0;34m(\u001b[0m\u001b[0;34m\"No tables found\"\u001b[0m\u001b[0;34m)\u001b[0m\u001b[0;34m\u001b[0m\u001b[0;34m\u001b[0m\u001b[0m\n\u001b[0m\u001b[1;32m    599\u001b[0m \u001b[0;34m\u001b[0m\u001b[0m\n\u001b[1;32m    600\u001b[0m         \u001b[0mresult\u001b[0m \u001b[0;34m=\u001b[0m \u001b[0;34m[\u001b[0m\u001b[0;34m]\u001b[0m\u001b[0;34m\u001b[0m\u001b[0;34m\u001b[0m\u001b[0m\n",
            "\u001b[0;31mValueError\u001b[0m: No tables found"
          ]
        }
      ]
    },
    {
      "cell_type": "markdown",
      "source": [
        "Note:\n",
        "\n",
        "pandas.read_html() only works when the page contains proper <table> tags in the HTML. The current page does not have any HTML tables, so the function raises an error\n",
        "\n",
        "---\n",
        "\n",
        "\n",
        "\n"
      ],
      "metadata": {
        "id": "QYPeQOYig2vD"
      }
    },
    {
      "cell_type": "code",
      "source": [
        "url = 'https://en.wikipedia.org/wiki/List_of_countries_by_population_(United_Nations)'\n",
        "\n",
        "import pandas as pd\n",
        "tables = pd.read_html(url)\n",
        "\n",
        "print(f'Total tables found: {len(tables)}')\n",
        "tables[0].head()\n"
      ],
      "metadata": {
        "colab": {
          "base_uri": "https://localhost:8080/",
          "height": 223
        },
        "id": "A1-05PqnhmYV",
        "outputId": "ec2cefb6-e734-4c77-b548-b914f021c2cf"
      },
      "execution_count": 21,
      "outputs": [
        {
          "output_type": "stream",
          "name": "stdout",
          "text": [
            "Total tables found: 2\n"
          ]
        },
        {
          "output_type": "execute_result",
          "data": {
            "text/plain": [
              "  Country or territory  Population (1 July 2022)  Population (1 July 2023)  \\\n",
              "0                World                8021407192                8091734930   \n",
              "1                India                1425423212                1438069596   \n",
              "2             China[a]                1425179569                1422584933   \n",
              "3        United States                 341534046                 343477335   \n",
              "4            Indonesia                 278830529                 281190067   \n",
              "\n",
              "  Change (%) UN continental region[1] UN statistical subregion[1]  \n",
              "0     +0.88%                        –                           –  \n",
              "1     +0.89%                     Asia               Southern Asia  \n",
              "2     −0.18%                     Asia                Eastern Asia  \n",
              "3     +0.57%                 Americas               North America  \n",
              "4     +0.85%                     Asia              Southeast Asia  "
            ],
            "text/html": [
              "\n",
              "  <div id=\"df-5022aaa0-5758-4234-8a80-7da87fa767f7\" class=\"colab-df-container\">\n",
              "    <div>\n",
              "<style scoped>\n",
              "    .dataframe tbody tr th:only-of-type {\n",
              "        vertical-align: middle;\n",
              "    }\n",
              "\n",
              "    .dataframe tbody tr th {\n",
              "        vertical-align: top;\n",
              "    }\n",
              "\n",
              "    .dataframe thead th {\n",
              "        text-align: right;\n",
              "    }\n",
              "</style>\n",
              "<table border=\"1\" class=\"dataframe\">\n",
              "  <thead>\n",
              "    <tr style=\"text-align: right;\">\n",
              "      <th></th>\n",
              "      <th>Country or territory</th>\n",
              "      <th>Population (1 July 2022)</th>\n",
              "      <th>Population (1 July 2023)</th>\n",
              "      <th>Change (%)</th>\n",
              "      <th>UN continental region[1]</th>\n",
              "      <th>UN statistical subregion[1]</th>\n",
              "    </tr>\n",
              "  </thead>\n",
              "  <tbody>\n",
              "    <tr>\n",
              "      <th>0</th>\n",
              "      <td>World</td>\n",
              "      <td>8021407192</td>\n",
              "      <td>8091734930</td>\n",
              "      <td>+0.88%</td>\n",
              "      <td>–</td>\n",
              "      <td>–</td>\n",
              "    </tr>\n",
              "    <tr>\n",
              "      <th>1</th>\n",
              "      <td>India</td>\n",
              "      <td>1425423212</td>\n",
              "      <td>1438069596</td>\n",
              "      <td>+0.89%</td>\n",
              "      <td>Asia</td>\n",
              "      <td>Southern Asia</td>\n",
              "    </tr>\n",
              "    <tr>\n",
              "      <th>2</th>\n",
              "      <td>China[a]</td>\n",
              "      <td>1425179569</td>\n",
              "      <td>1422584933</td>\n",
              "      <td>−0.18%</td>\n",
              "      <td>Asia</td>\n",
              "      <td>Eastern Asia</td>\n",
              "    </tr>\n",
              "    <tr>\n",
              "      <th>3</th>\n",
              "      <td>United States</td>\n",
              "      <td>341534046</td>\n",
              "      <td>343477335</td>\n",
              "      <td>+0.57%</td>\n",
              "      <td>Americas</td>\n",
              "      <td>North America</td>\n",
              "    </tr>\n",
              "    <tr>\n",
              "      <th>4</th>\n",
              "      <td>Indonesia</td>\n",
              "      <td>278830529</td>\n",
              "      <td>281190067</td>\n",
              "      <td>+0.85%</td>\n",
              "      <td>Asia</td>\n",
              "      <td>Southeast Asia</td>\n",
              "    </tr>\n",
              "  </tbody>\n",
              "</table>\n",
              "</div>\n",
              "    <div class=\"colab-df-buttons\">\n",
              "\n",
              "  <div class=\"colab-df-container\">\n",
              "    <button class=\"colab-df-convert\" onclick=\"convertToInteractive('df-5022aaa0-5758-4234-8a80-7da87fa767f7')\"\n",
              "            title=\"Convert this dataframe to an interactive table.\"\n",
              "            style=\"display:none;\">\n",
              "\n",
              "  <svg xmlns=\"http://www.w3.org/2000/svg\" height=\"24px\" viewBox=\"0 -960 960 960\">\n",
              "    <path d=\"M120-120v-720h720v720H120Zm60-500h600v-160H180v160Zm220 220h160v-160H400v160Zm0 220h160v-160H400v160ZM180-400h160v-160H180v160Zm440 0h160v-160H620v160ZM180-180h160v-160H180v160Zm440 0h160v-160H620v160Z\"/>\n",
              "  </svg>\n",
              "    </button>\n",
              "\n",
              "  <style>\n",
              "    .colab-df-container {\n",
              "      display:flex;\n",
              "      gap: 12px;\n",
              "    }\n",
              "\n",
              "    .colab-df-convert {\n",
              "      background-color: #E8F0FE;\n",
              "      border: none;\n",
              "      border-radius: 50%;\n",
              "      cursor: pointer;\n",
              "      display: none;\n",
              "      fill: #1967D2;\n",
              "      height: 32px;\n",
              "      padding: 0 0 0 0;\n",
              "      width: 32px;\n",
              "    }\n",
              "\n",
              "    .colab-df-convert:hover {\n",
              "      background-color: #E2EBFA;\n",
              "      box-shadow: 0px 1px 2px rgba(60, 64, 67, 0.3), 0px 1px 3px 1px rgba(60, 64, 67, 0.15);\n",
              "      fill: #174EA6;\n",
              "    }\n",
              "\n",
              "    .colab-df-buttons div {\n",
              "      margin-bottom: 4px;\n",
              "    }\n",
              "\n",
              "    [theme=dark] .colab-df-convert {\n",
              "      background-color: #3B4455;\n",
              "      fill: #D2E3FC;\n",
              "    }\n",
              "\n",
              "    [theme=dark] .colab-df-convert:hover {\n",
              "      background-color: #434B5C;\n",
              "      box-shadow: 0px 1px 3px 1px rgba(0, 0, 0, 0.15);\n",
              "      filter: drop-shadow(0px 1px 2px rgba(0, 0, 0, 0.3));\n",
              "      fill: #FFFFFF;\n",
              "    }\n",
              "  </style>\n",
              "\n",
              "    <script>\n",
              "      const buttonEl =\n",
              "        document.querySelector('#df-5022aaa0-5758-4234-8a80-7da87fa767f7 button.colab-df-convert');\n",
              "      buttonEl.style.display =\n",
              "        google.colab.kernel.accessAllowed ? 'block' : 'none';\n",
              "\n",
              "      async function convertToInteractive(key) {\n",
              "        const element = document.querySelector('#df-5022aaa0-5758-4234-8a80-7da87fa767f7');\n",
              "        const dataTable =\n",
              "          await google.colab.kernel.invokeFunction('convertToInteractive',\n",
              "                                                    [key], {});\n",
              "        if (!dataTable) return;\n",
              "\n",
              "        const docLinkHtml = 'Like what you see? Visit the ' +\n",
              "          '<a target=\"_blank\" href=https://colab.research.google.com/notebooks/data_table.ipynb>data table notebook</a>'\n",
              "          + ' to learn more about interactive tables.';\n",
              "        element.innerHTML = '';\n",
              "        dataTable['output_type'] = 'display_data';\n",
              "        await google.colab.output.renderOutput(dataTable, element);\n",
              "        const docLink = document.createElement('div');\n",
              "        docLink.innerHTML = docLinkHtml;\n",
              "        element.appendChild(docLink);\n",
              "      }\n",
              "    </script>\n",
              "  </div>\n",
              "\n",
              "\n",
              "    <div id=\"df-61d6e412-6b41-460e-a1d1-885891fcdae6\">\n",
              "      <button class=\"colab-df-quickchart\" onclick=\"quickchart('df-61d6e412-6b41-460e-a1d1-885891fcdae6')\"\n",
              "                title=\"Suggest charts\"\n",
              "                style=\"display:none;\">\n",
              "\n",
              "<svg xmlns=\"http://www.w3.org/2000/svg\" height=\"24px\"viewBox=\"0 0 24 24\"\n",
              "     width=\"24px\">\n",
              "    <g>\n",
              "        <path d=\"M19 3H5c-1.1 0-2 .9-2 2v14c0 1.1.9 2 2 2h14c1.1 0 2-.9 2-2V5c0-1.1-.9-2-2-2zM9 17H7v-7h2v7zm4 0h-2V7h2v10zm4 0h-2v-4h2v4z\"/>\n",
              "    </g>\n",
              "</svg>\n",
              "      </button>\n",
              "\n",
              "<style>\n",
              "  .colab-df-quickchart {\n",
              "      --bg-color: #E8F0FE;\n",
              "      --fill-color: #1967D2;\n",
              "      --hover-bg-color: #E2EBFA;\n",
              "      --hover-fill-color: #174EA6;\n",
              "      --disabled-fill-color: #AAA;\n",
              "      --disabled-bg-color: #DDD;\n",
              "  }\n",
              "\n",
              "  [theme=dark] .colab-df-quickchart {\n",
              "      --bg-color: #3B4455;\n",
              "      --fill-color: #D2E3FC;\n",
              "      --hover-bg-color: #434B5C;\n",
              "      --hover-fill-color: #FFFFFF;\n",
              "      --disabled-bg-color: #3B4455;\n",
              "      --disabled-fill-color: #666;\n",
              "  }\n",
              "\n",
              "  .colab-df-quickchart {\n",
              "    background-color: var(--bg-color);\n",
              "    border: none;\n",
              "    border-radius: 50%;\n",
              "    cursor: pointer;\n",
              "    display: none;\n",
              "    fill: var(--fill-color);\n",
              "    height: 32px;\n",
              "    padding: 0;\n",
              "    width: 32px;\n",
              "  }\n",
              "\n",
              "  .colab-df-quickchart:hover {\n",
              "    background-color: var(--hover-bg-color);\n",
              "    box-shadow: 0 1px 2px rgba(60, 64, 67, 0.3), 0 1px 3px 1px rgba(60, 64, 67, 0.15);\n",
              "    fill: var(--button-hover-fill-color);\n",
              "  }\n",
              "\n",
              "  .colab-df-quickchart-complete:disabled,\n",
              "  .colab-df-quickchart-complete:disabled:hover {\n",
              "    background-color: var(--disabled-bg-color);\n",
              "    fill: var(--disabled-fill-color);\n",
              "    box-shadow: none;\n",
              "  }\n",
              "\n",
              "  .colab-df-spinner {\n",
              "    border: 2px solid var(--fill-color);\n",
              "    border-color: transparent;\n",
              "    border-bottom-color: var(--fill-color);\n",
              "    animation:\n",
              "      spin 1s steps(1) infinite;\n",
              "  }\n",
              "\n",
              "  @keyframes spin {\n",
              "    0% {\n",
              "      border-color: transparent;\n",
              "      border-bottom-color: var(--fill-color);\n",
              "      border-left-color: var(--fill-color);\n",
              "    }\n",
              "    20% {\n",
              "      border-color: transparent;\n",
              "      border-left-color: var(--fill-color);\n",
              "      border-top-color: var(--fill-color);\n",
              "    }\n",
              "    30% {\n",
              "      border-color: transparent;\n",
              "      border-left-color: var(--fill-color);\n",
              "      border-top-color: var(--fill-color);\n",
              "      border-right-color: var(--fill-color);\n",
              "    }\n",
              "    40% {\n",
              "      border-color: transparent;\n",
              "      border-right-color: var(--fill-color);\n",
              "      border-top-color: var(--fill-color);\n",
              "    }\n",
              "    60% {\n",
              "      border-color: transparent;\n",
              "      border-right-color: var(--fill-color);\n",
              "    }\n",
              "    80% {\n",
              "      border-color: transparent;\n",
              "      border-right-color: var(--fill-color);\n",
              "      border-bottom-color: var(--fill-color);\n",
              "    }\n",
              "    90% {\n",
              "      border-color: transparent;\n",
              "      border-bottom-color: var(--fill-color);\n",
              "    }\n",
              "  }\n",
              "</style>\n",
              "\n",
              "      <script>\n",
              "        async function quickchart(key) {\n",
              "          const quickchartButtonEl =\n",
              "            document.querySelector('#' + key + ' button');\n",
              "          quickchartButtonEl.disabled = true;  // To prevent multiple clicks.\n",
              "          quickchartButtonEl.classList.add('colab-df-spinner');\n",
              "          try {\n",
              "            const charts = await google.colab.kernel.invokeFunction(\n",
              "                'suggestCharts', [key], {});\n",
              "          } catch (error) {\n",
              "            console.error('Error during call to suggestCharts:', error);\n",
              "          }\n",
              "          quickchartButtonEl.classList.remove('colab-df-spinner');\n",
              "          quickchartButtonEl.classList.add('colab-df-quickchart-complete');\n",
              "        }\n",
              "        (() => {\n",
              "          let quickchartButtonEl =\n",
              "            document.querySelector('#df-61d6e412-6b41-460e-a1d1-885891fcdae6 button');\n",
              "          quickchartButtonEl.style.display =\n",
              "            google.colab.kernel.accessAllowed ? 'block' : 'none';\n",
              "        })();\n",
              "      </script>\n",
              "    </div>\n",
              "\n",
              "    </div>\n",
              "  </div>\n"
            ],
            "application/vnd.google.colaboratory.intrinsic+json": {
              "type": "dataframe",
              "summary": "{\n  \"name\": \"tables[0]\",\n  \"rows\": 5,\n  \"fields\": [\n    {\n      \"column\": \"Country or territory\",\n      \"properties\": {\n        \"dtype\": \"string\",\n        \"num_unique_values\": 5,\n        \"samples\": [\n          \"India\",\n          \"Indonesia\",\n          \"China[a]\"\n        ],\n        \"semantic_type\": \"\",\n        \"description\": \"\"\n      }\n    },\n    {\n      \"column\": \"Population (1 July 2022)\",\n      \"properties\": {\n        \"dtype\": \"number\",\n        \"std\": 3247514391,\n        \"min\": 278830529,\n        \"max\": 8021407192,\n        \"num_unique_values\": 5,\n        \"samples\": [\n          1425423212,\n          278830529,\n          1425179569\n        ],\n        \"semantic_type\": \"\",\n        \"description\": \"\"\n      }\n    },\n    {\n      \"column\": \"Population (1 July 2023)\",\n      \"properties\": {\n        \"dtype\": \"number\",\n        \"std\": 3277169573,\n        \"min\": 281190067,\n        \"max\": 8091734930,\n        \"num_unique_values\": 5,\n        \"samples\": [\n          1438069596,\n          281190067,\n          1422584933\n        ],\n        \"semantic_type\": \"\",\n        \"description\": \"\"\n      }\n    },\n    {\n      \"column\": \"Change (%)\",\n      \"properties\": {\n        \"dtype\": \"string\",\n        \"num_unique_values\": 5,\n        \"samples\": [\n          \"+0.89%\",\n          \"+0.85%\",\n          \"\\u22120.18%\"\n        ],\n        \"semantic_type\": \"\",\n        \"description\": \"\"\n      }\n    },\n    {\n      \"column\": \"UN continental region[1]\",\n      \"properties\": {\n        \"dtype\": \"string\",\n        \"num_unique_values\": 3,\n        \"samples\": [\n          \"\\u2013\",\n          \"Asia\",\n          \"Americas\"\n        ],\n        \"semantic_type\": \"\",\n        \"description\": \"\"\n      }\n    },\n    {\n      \"column\": \"UN statistical subregion[1]\",\n      \"properties\": {\n        \"dtype\": \"string\",\n        \"num_unique_values\": 5,\n        \"samples\": [\n          \"Southern Asia\",\n          \"Southeast Asia\",\n          \"Eastern Asia\"\n        ],\n        \"semantic_type\": \"\",\n        \"description\": \"\"\n      }\n    }\n  ]\n}"
            }
          },
          "metadata": {},
          "execution_count": 21
        }
      ]
    },
    {
      "cell_type": "markdown",
      "source": [
        " Works as expected — the page has HTML table tags readable by pandas.read_html"
      ],
      "metadata": {
        "id": "5Fgeo_OskD_3"
      }
    }
  ]
}