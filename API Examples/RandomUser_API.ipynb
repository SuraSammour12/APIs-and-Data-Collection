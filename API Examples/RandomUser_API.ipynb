{
  "nbformat": 4,
  "nbformat_minor": 0,
  "metadata": {
    "colab": {
      "provenance": []
    },
    "kernelspec": {
      "name": "python3",
      "display_name": "Python 3"
    },
    "language_info": {
      "name": "python"
    }
  },
  "cells": [
    {
      "cell_type": "markdown",
      "source": [
        " RandomUser API\n",
        "\n",
        "What is the RandomUser API?\n",
        "It’s a website that provides an API service which gives us data of fake users.\n",
        "We can use these fake users, for example, when designing a login application or a user profile page and we need placeholder data."
      ],
      "metadata": {
        "id": "AAPsYC-_eUmD"
      }
    },
    {
      "cell_type": "markdown",
      "source": [
        "Get Methods\n",
        "\n",
        "get_full_name(), get_email(), get_gender(), get_picture(), ...\n",
        "\n",
        "Each one of these provides a specific piece of information about the user, such as:\n",
        "\n",
        "Full name, Email, Gender, Profile picture, City, country, etc.\n",
        "\n",
        "It’s like I am asking:\n",
        "“Tell me about this person 👤 — what’s their name? Email? What do they look like?”"
      ],
      "metadata": {
        "id": "PieTxXtWfFcV"
      }
    },
    {
      "cell_type": "code",
      "source": [
        "# Install a library called randomuser that makes it easier to work with this API\n",
        "!pip install randomuser"
      ],
      "metadata": {
        "colab": {
          "base_uri": "https://localhost:8080/"
        },
        "id": "cFZW4JzufnYZ",
        "outputId": "783a434f-65ec-4630-be6a-217df30465ca"
      },
      "execution_count": 8,
      "outputs": [
        {
          "output_type": "stream",
          "name": "stdout",
          "text": [
            "Requirement already satisfied: randomuser in /usr/local/lib/python3.11/dist-packages (1.6)\n"
          ]
        }
      ]
    },
    {
      "cell_type": "code",
      "source": [
        "from randomuser import RandomUser # used to access the data\n",
        "import pandas as pd # organize the data in a DataFrame"
      ],
      "metadata": {
        "id": "slacHPuygOU8"
      },
      "execution_count": 10,
      "outputs": []
    },
    {
      "cell_type": "markdown",
      "source": [
        "Creates an object from the RandomUser library | The r object is the gateway through which i interact with the API | But I haven't created any users yet\n"
      ],
      "metadata": {
        "id": "w0qhW8pGwAhu"
      }
    },
    {
      "cell_type": "code",
      "source": [
        "r = RandomUser() # Prepares a tool/object to handle the API"
      ],
      "metadata": {
        "id": "jhpKLcOLg40V"
      },
      "execution_count": 11,
      "outputs": []
    },
    {
      "cell_type": "markdown",
      "source": [
        "This function gives me a list containing 10 fake users, and for each one, i can extract information using the methods mentioned above"
      ],
      "metadata": {
        "id": "L81SghefwHCL"
      }
    },
    {
      "cell_type": "code",
      "source": [
        "# Generate 10 Random Users\n",
        "some_list = r.generate_users(10)"
      ],
      "metadata": {
        "id": "Iqv38kx_hgjG"
      },
      "execution_count": 12,
      "outputs": []
    },
    {
      "cell_type": "markdown",
      "source": [
        "Print the full name and email of each one"
      ],
      "metadata": {
        "id": "E8n13jktwW_k"
      }
    },
    {
      "cell_type": "code",
      "source": [
        "for user in some_list:\n",
        "  print(user.get_full_name(),\" \",user.get_email())"
      ],
      "metadata": {
        "colab": {
          "base_uri": "https://localhost:8080/"
        },
        "id": "7pUBRDMzwfE1",
        "outputId": "1c313f10-9668-4c91-952b-bf575a99aeae"
      },
      "execution_count": 15,
      "outputs": [
        {
          "output_type": "stream",
          "name": "stdout",
          "text": [
            "Beth Lewis   beth.lewis@example.com\n",
            "Ayrton Van der Staak   ayrton.vanderstaak@example.com\n",
            "Finn Berge   finn.berge@example.com\n",
            "Noah Hughes   noah.hughes@example.com\n",
            "Marilise Moraes   marilise.moraes@example.com\n",
            "Thea Morris   thea.morris@example.com\n",
            "Hannah Lévesque   hannah.levesque@example.com\n",
            "Francisca Campos   francisca.campos@example.com\n",
            "Isaac Muñoz   isaac.munoz@example.com\n",
            "Freja Johansen   freja.johansen@example.com\n"
          ]
        }
      ]
    },
    {
      "cell_type": "markdown",
      "source": [
        "Print user photos"
      ],
      "metadata": {
        "id": "AFA97iXpw8gn"
      }
    },
    {
      "cell_type": "code",
      "source": [
        "for user in some_list:\n",
        "  print(user.get_full_name(),\" \",user.get_picture())"
      ],
      "metadata": {
        "colab": {
          "base_uri": "https://localhost:8080/"
        },
        "id": "hQmksI2txBgj",
        "outputId": "30b9aa32-0632-4101-c89e-8c978c7d6e5a"
      },
      "execution_count": 16,
      "outputs": [
        {
          "output_type": "stream",
          "name": "stdout",
          "text": [
            "Beth Lewis   https://randomuser.me/api/portraits/women/89.jpg\n",
            "Ayrton Van der Staak   https://randomuser.me/api/portraits/men/24.jpg\n",
            "Finn Berge   https://randomuser.me/api/portraits/men/28.jpg\n",
            "Noah Hughes   https://randomuser.me/api/portraits/men/63.jpg\n",
            "Marilise Moraes   https://randomuser.me/api/portraits/women/79.jpg\n",
            "Thea Morris   https://randomuser.me/api/portraits/women/59.jpg\n",
            "Hannah Lévesque   https://randomuser.me/api/portraits/women/76.jpg\n",
            "Francisca Campos   https://randomuser.me/api/portraits/women/16.jpg\n",
            "Isaac Muñoz   https://randomuser.me/api/portraits/men/45.jpg\n",
            "Freja Johansen   https://randomuser.me/api/portraits/women/82.jpg\n"
          ]
        }
      ]
    },
    {
      "cell_type": "markdown",
      "source": [
        "To see the images actually inside Jupyter Notebook"
      ],
      "metadata": {
        "id": "ZP3uT1C5xd6F"
      }
    },
    {
      "cell_type": "code",
      "source": [
        "from IPython.display import Image, display\n",
        "\n",
        "for user in some_list:\n",
        "  print(user.get_full_name())\n",
        "  display(Image(user.get_picture()))"
      ],
      "metadata": {
        "colab": {
          "base_uri": "https://localhost:8080/",
          "height": 1000
        },
        "id": "7tOxZ4VPxp8t",
        "outputId": "722377ac-335a-4f10-ec59-8e8fe99ea2a1"
      },
      "execution_count": 17,
      "outputs": [
        {
          "output_type": "stream",
          "name": "stdout",
          "text": [
            "Beth Lewis\n"
          ]
        },
        {
          "output_type": "display_data",
          "data": {
            "image/jpeg": "[encoded data removed]",
            "text/plain": [
              "<IPython.core.display.Image object>"
            ]
          },
          "metadata": {}
        },
        {
          "output_type": "stream",
          "name": "stdout",
          "text": [
            "Ayrton Van der Staak\n"
          ]
        },
        {
          "output_type": "display_data",
          "data": {
            "image/jpeg": "[encoded data removed]",
            "text/plain": [
              "<IPython.core.display.Image object>"
            ]
          },
          "metadata": {}
        },
        {
          "output_type": "stream",
          "name": "stdout",
          "text": [
            "Finn Berge\n"
          ]
        },
        {
          "output_type": "display_data",
          "data": {
            "image/jpeg": "[encoded data removed]",
            "text/plain": [
              "<IPython.core.display.Image object>"
            ]
          },
          "metadata": {}
        },
        {
          "output_type": "stream",
          "name": "stdout",
          "text": [
            "Noah Hughes\n"
          ]
        },
        {
          "output_type": "display_data",
          "data": {
            "image/jpeg": "[encoded data removed]",
            "text/plain": [
              "<IPython.core.display.Image object>"
            ]
          },
          "metadata": {}
        },
        {
          "output_type": "stream",
          "name": "stdout",
          "text": [
            "Marilise Moraes\n"
          ]
        },
        {
          "output_type": "display_data",
          "data": {
            "image/jpeg": "[encoded data removed]",
            "text/plain": [
              "<IPython.core.display.Image object>"
            ]
          },
          "metadata": {}
        },
        {
          "output_type": "stream",
          "name": "stdout",
          "text": [
            "Thea Morris\n"
          ]
        },
        {
          "output_type": "display_data",
          "data": {
            "image/jpeg": "[encoded data removed]",
            "text/plain": [
              "<IPython.core.display.Image object>"
            ]
          },
          "metadata": {}
        },
        {
          "output_type": "stream",
          "name": "stdout",
          "text": [
            "Hannah Lévesque\n"
          ]
        },
        {
          "output_type": "display_data",
          "data": {
            "image/jpeg": "[encoded data removed]",
            "text/plain": [
              "<IPython.core.display.Image object>"
            ]
          },
          "metadata": {}
        },
        {
          "output_type": "stream",
          "name": "stdout",
          "text": [
            "Francisca Campos\n"
          ]
        },
        {
          "output_type": "display_data",
          "data": {
            "image/jpeg": "[encoded data removed]",
            "text/plain": [
              "<IPython.core.display.Image object>"
            ]
          },
          "metadata": {}
        },
        {
          "output_type": "stream",
          "name": "stdout",
          "text": [
            "Isaac Muñoz\n"
          ]
        },
        {
          "output_type": "display_data",
          "data": {
            "image/jpeg": "[encoded data removed]",
            "text/plain": [
              "<IPython.core.display.Image object>"
            ]
          },
          "metadata": {}
        },
        {
          "output_type": "stream",
          "name": "stdout",
          "text": [
            "Freja Johansen\n"
          ]
        },
        {
          "output_type": "display_data",
          "data": {
            "image/jpeg": "[encoded data removed]",
            "text/plain": [
              "<IPython.core.display.Image object>"
            ]
          },
          "metadata": {}
        }
      ]
    },
    {
      "cell_type": "markdown",
      "source": [
        "Create a DataFrame from data"
      ],
      "metadata": {
        "id": "MBONJrwn-fez"
      }
    },
    {
      "cell_type": "code",
      "source": [
        "import pandas as pd\n",
        "def get_users():\n",
        "  users = []\n",
        "  for user in RandomUser.generate_users(10):\n",
        "    users.append({\n",
        "        'Name':user.get_full_name(),\n",
        "        'Gender':user.get_gender(),\n",
        "        'City':user.get_city(),\n",
        "        'State':user.get_state(),\n",
        "        'Email':user.get_email(),\n",
        "        'DOB':user.get_dob(),\n",
        "        'Picture':user.get_picture()\n",
        "    })\n",
        "  return pd.DataFrame(users)"
      ],
      "metadata": {
        "id": "B6S_fwWI-mgt"
      },
      "execution_count": 20,
      "outputs": []
    },
    {
      "cell_type": "markdown",
      "source": [
        "Save the result inside a DataFrame"
      ],
      "metadata": {
        "id": "lVqfWs-J_xFd"
      }
    },
    {
      "cell_type": "code",
      "source": [
        "df1 = get_users()\n"
      ],
      "metadata": {
        "id": "KcoTiQuw_8Il"
      },
      "execution_count": 21,
      "outputs": []
    },
    {
      "cell_type": "code",
      "source": [
        "df1"
      ],
      "metadata": {
        "colab": {
          "base_uri": "https://localhost:8080/",
          "height": 363
        },
        "id": "jrd3KuzcA3Ym",
        "outputId": "f5d755ed-b2da-42a2-8045-eacb69c2a84f"
      },
      "execution_count": 22,
      "outputs": [
        {
          "output_type": "execute_result",
          "data": {
            "text/plain": [
              "                   Name  Gender                City                  State  \\\n",
              "0          Chloe Wilson  female  Carrick-on-Shannon           South Dublin   \n",
              "1            Ask Diesen    male          Ulsteinvik             Vest-Agder   \n",
              "2  Villads Christiansen    male             Allinge               Sjælland   \n",
              "3       Nathan Espeseth    male               Selje               Akershus   \n",
              "4         Chloe Chapman  female             Ratoath               Monaghan   \n",
              "5          Nixon Taylor    male               Taupo                 Nelson   \n",
              "6          Amelia White  female            Fauquier  Northwest Territories   \n",
              "7            Diane Ross  female             Bendigo               Tasmania   \n",
              "8      Herman Groenveld    male        Noordwijk Gn              Flevoland   \n",
              "9         Jasper Walker    male            Blenheim               Taranaki   \n",
              "\n",
              "                              Email                       DOB  \\\n",
              "0          chloe.wilson@example.com  1973-01-16T02:00:09.520Z   \n",
              "1            ask.diesen@example.com  1955-04-02T21:49:45.356Z   \n",
              "2  villads.christiansen@example.com  1982-06-01T23:40:34.765Z   \n",
              "3       nathan.espeseth@example.com  1981-09-23T10:17:08.476Z   \n",
              "4         chloe.chapman@example.com  1995-08-23T23:41:15.627Z   \n",
              "5          nixon.taylor@example.com  1950-05-25T10:02:09.125Z   \n",
              "6          amelia.white@example.com  1988-02-11T08:36:18.024Z   \n",
              "7            diane.ross@example.com  1958-09-25T20:14:23.800Z   \n",
              "8      herman.groenveld@example.com  1956-09-05T08:52:41.646Z   \n",
              "9         jasper.walker@example.com  1990-05-27T05:32:22.186Z   \n",
              "\n",
              "                                            Picture  \n",
              "0  https://randomuser.me/api/portraits/women/84.jpg  \n",
              "1    https://randomuser.me/api/portraits/men/83.jpg  \n",
              "2    https://randomuser.me/api/portraits/men/65.jpg  \n",
              "3    https://randomuser.me/api/portraits/men/70.jpg  \n",
              "4   https://randomuser.me/api/portraits/women/4.jpg  \n",
              "5    https://randomuser.me/api/portraits/men/54.jpg  \n",
              "6  https://randomuser.me/api/portraits/women/52.jpg  \n",
              "7  https://randomuser.me/api/portraits/women/80.jpg  \n",
              "8    https://randomuser.me/api/portraits/men/81.jpg  \n",
              "9    https://randomuser.me/api/portraits/men/17.jpg  "
            ],
            "text/html": [
              "\n",
              "  <div id=\"df-bbffba88-e028-4ac4-b8f3-6c5276237077\" class=\"colab-df-container\">\n",
              "    <div>\n",
              "<style scoped>\n",
              "    .dataframe tbody tr th:only-of-type {\n",
              "        vertical-align: middle;\n",
              "    }\n",
              "\n",
              "    .dataframe tbody tr th {\n",
              "        vertical-align: top;\n",
              "    }\n",
              "\n",
              "    .dataframe thead th {\n",
              "        text-align: right;\n",
              "    }\n",
              "</style>\n",
              "<table border=\"1\" class=\"dataframe\">\n",
              "  <thead>\n",
              "    <tr style=\"text-align: right;\">\n",
              "      <th></th>\n",
              "      <th>Name</th>\n",
              "      <th>Gender</th>\n",
              "      <th>City</th>\n",
              "      <th>State</th>\n",
              "      <th>Email</th>\n",
              "      <th>DOB</th>\n",
              "      <th>Picture</th>\n",
              "    </tr>\n",
              "  </thead>\n",
              "  <tbody>\n",
              "    <tr>\n",
              "      <th>0</th>\n",
              "      <td>Chloe Wilson</td>\n",
              "      <td>female</td>\n",
              "      <td>Carrick-on-Shannon</td>\n",
              "      <td>South Dublin</td>\n",
              "      <td>chloe.wilson@example.com</td>\n",
              "      <td>1973-01-16T02:00:09.520Z</td>\n",
              "      <td>https://randomuser.me/api/portraits/women/84.jpg</td>\n",
              "    </tr>\n",
              "    <tr>\n",
              "      <th>1</th>\n",
              "      <td>Ask Diesen</td>\n",
              "      <td>male</td>\n",
              "      <td>Ulsteinvik</td>\n",
              "      <td>Vest-Agder</td>\n",
              "      <td>ask.diesen@example.com</td>\n",
              "      <td>1955-04-02T21:49:45.356Z</td>\n",
              "      <td>https://randomuser.me/api/portraits/men/83.jpg</td>\n",
              "    </tr>\n",
              "    <tr>\n",
              "      <th>2</th>\n",
              "      <td>Villads Christiansen</td>\n",
              "      <td>male</td>\n",
              "      <td>Allinge</td>\n",
              "      <td>Sjælland</td>\n",
              "      <td>villads.christiansen@example.com</td>\n",
              "      <td>1982-06-01T23:40:34.765Z</td>\n",
              "      <td>https://randomuser.me/api/portraits/men/65.jpg</td>\n",
              "    </tr>\n",
              "    <tr>\n",
              "      <th>3</th>\n",
              "      <td>Nathan Espeseth</td>\n",
              "      <td>male</td>\n",
              "      <td>Selje</td>\n",
              "      <td>Akershus</td>\n",
              "      <td>nathan.espeseth@example.com</td>\n",
              "      <td>1981-09-23T10:17:08.476Z</td>\n",
              "      <td>https://randomuser.me/api/portraits/men/70.jpg</td>\n",
              "    </tr>\n",
              "    <tr>\n",
              "      <th>4</th>\n",
              "      <td>Chloe Chapman</td>\n",
              "      <td>female</td>\n",
              "      <td>Ratoath</td>\n",
              "      <td>Monaghan</td>\n",
              "      <td>chloe.chapman@example.com</td>\n",
              "      <td>1995-08-23T23:41:15.627Z</td>\n",
              "      <td>https://randomuser.me/api/portraits/women/4.jpg</td>\n",
              "    </tr>\n",
              "    <tr>\n",
              "      <th>5</th>\n",
              "      <td>Nixon Taylor</td>\n",
              "      <td>male</td>\n",
              "      <td>Taupo</td>\n",
              "      <td>Nelson</td>\n",
              "      <td>nixon.taylor@example.com</td>\n",
              "      <td>1950-05-25T10:02:09.125Z</td>\n",
              "      <td>https://randomuser.me/api/portraits/men/54.jpg</td>\n",
              "    </tr>\n",
              "    <tr>\n",
              "      <th>6</th>\n",
              "      <td>Amelia White</td>\n",
              "      <td>female</td>\n",
              "      <td>Fauquier</td>\n",
              "      <td>Northwest Territories</td>\n",
              "      <td>amelia.white@example.com</td>\n",
              "      <td>1988-02-11T08:36:18.024Z</td>\n",
              "      <td>https://randomuser.me/api/portraits/women/52.jpg</td>\n",
              "    </tr>\n",
              "    <tr>\n",
              "      <th>7</th>\n",
              "      <td>Diane Ross</td>\n",
              "      <td>female</td>\n",
              "      <td>Bendigo</td>\n",
              "      <td>Tasmania</td>\n",
              "      <td>diane.ross@example.com</td>\n",
              "      <td>1958-09-25T20:14:23.800Z</td>\n",
              "      <td>https://randomuser.me/api/portraits/women/80.jpg</td>\n",
              "    </tr>\n",
              "    <tr>\n",
              "      <th>8</th>\n",
              "      <td>Herman Groenveld</td>\n",
              "      <td>male</td>\n",
              "      <td>Noordwijk Gn</td>\n",
              "      <td>Flevoland</td>\n",
              "      <td>herman.groenveld@example.com</td>\n",
              "      <td>1956-09-05T08:52:41.646Z</td>\n",
              "      <td>https://randomuser.me/api/portraits/men/81.jpg</td>\n",
              "    </tr>\n",
              "    <tr>\n",
              "      <th>9</th>\n",
              "      <td>Jasper Walker</td>\n",
              "      <td>male</td>\n",
              "      <td>Blenheim</td>\n",
              "      <td>Taranaki</td>\n",
              "      <td>jasper.walker@example.com</td>\n",
              "      <td>1990-05-27T05:32:22.186Z</td>\n",
              "      <td>https://randomuser.me/api/portraits/men/17.jpg</td>\n",
              "    </tr>\n",
              "  </tbody>\n",
              "</table>\n",
              "</div>\n",
              "    <div class=\"colab-df-buttons\">\n",
              "\n",
              "  <div class=\"colab-df-container\">\n",
              "    <button class=\"colab-df-convert\" onclick=\"convertToInteractive('df-bbffba88-e028-4ac4-b8f3-6c5276237077')\"\n",
              "            title=\"Convert this dataframe to an interactive table.\"\n",
              "            style=\"display:none;\">\n",
              "\n",
              "  <svg xmlns=\"http://www.w3.org/2000/svg\" height=\"24px\" viewBox=\"0 -960 960 960\">\n",
              "    <path d=\"M120-120v-720h720v720H120Zm60-500h600v-160H180v160Zm220 220h160v-160H400v160Zm0 220h160v-160H400v160ZM180-400h160v-160H180v160Zm440 0h160v-160H620v160ZM180-180h160v-160H180v160Zm440 0h160v-160H620v160Z\"/>\n",
              "  </svg>\n",
              "    </button>\n",
              "\n",
              "  <style>\n",
              "    .colab-df-container {\n",
              "      display:flex;\n",
              "      gap: 12px;\n",
              "    }\n",
              "\n",
              "    .colab-df-convert {\n",
              "      background-color: #E8F0FE;\n",
              "      border: none;\n",
              "      border-radius: 50%;\n",
              "      cursor: pointer;\n",
              "      display: none;\n",
              "      fill: #1967D2;\n",
              "      height: 32px;\n",
              "      padding: 0 0 0 0;\n",
              "      width: 32px;\n",
              "    }\n",
              "\n",
              "    .colab-df-convert:hover {\n",
              "      background-color: #E2EBFA;\n",
              "      box-shadow: 0px 1px 2px rgba(60, 64, 67, 0.3), 0px 1px 3px 1px rgba(60, 64, 67, 0.15);\n",
              "      fill: #174EA6;\n",
              "    }\n",
              "\n",
              "    .colab-df-buttons div {\n",
              "      margin-bottom: 4px;\n",
              "    }\n",
              "\n",
              "    [theme=dark] .colab-df-convert {\n",
              "      background-color: #3B4455;\n",
              "      fill: #D2E3FC;\n",
              "    }\n",
              "\n",
              "    [theme=dark] .colab-df-convert:hover {\n",
              "      background-color: #434B5C;\n",
              "      box-shadow: 0px 1px 3px 1px rgba(0, 0, 0, 0.15);\n",
              "      filter: drop-shadow(0px 1px 2px rgba(0, 0, 0, 0.3));\n",
              "      fill: #FFFFFF;\n",
              "    }\n",
              "  </style>\n",
              "\n",
              "    <script>\n",
              "      const buttonEl =\n",
              "        document.querySelector('#df-bbffba88-e028-4ac4-b8f3-6c5276237077 button.colab-df-convert');\n",
              "      buttonEl.style.display =\n",
              "        google.colab.kernel.accessAllowed ? 'block' : 'none';\n",
              "\n",
              "      async function convertToInteractive(key) {\n",
              "        const element = document.querySelector('#df-bbffba88-e028-4ac4-b8f3-6c5276237077');\n",
              "        const dataTable =\n",
              "          await google.colab.kernel.invokeFunction('convertToInteractive',\n",
              "                                                    [key], {});\n",
              "        if (!dataTable) return;\n",
              "\n",
              "        const docLinkHtml = 'Like what you see? Visit the ' +\n",
              "          '<a target=\"_blank\" href=https://colab.research.google.com/notebooks/data_table.ipynb>data table notebook</a>'\n",
              "          + ' to learn more about interactive tables.';\n",
              "        element.innerHTML = '';\n",
              "        dataTable['output_type'] = 'display_data';\n",
              "        await google.colab.output.renderOutput(dataTable, element);\n",
              "        const docLink = document.createElement('div');\n",
              "        docLink.innerHTML = docLinkHtml;\n",
              "        element.appendChild(docLink);\n",
              "      }\n",
              "    </script>\n",
              "  </div>\n",
              "\n",
              "\n",
              "    <div id=\"df-96443177-08cc-4a14-9999-f082b66db950\">\n",
              "      <button class=\"colab-df-quickchart\" onclick=\"quickchart('df-96443177-08cc-4a14-9999-f082b66db950')\"\n",
              "                title=\"Suggest charts\"\n",
              "                style=\"display:none;\">\n",
              "\n",
              "<svg xmlns=\"http://www.w3.org/2000/svg\" height=\"24px\"viewBox=\"0 0 24 24\"\n",
              "     width=\"24px\">\n",
              "    <g>\n",
              "        <path d=\"M19 3H5c-1.1 0-2 .9-2 2v14c0 1.1.9 2 2 2h14c1.1 0 2-.9 2-2V5c0-1.1-.9-2-2-2zM9 17H7v-7h2v7zm4 0h-2V7h2v10zm4 0h-2v-4h2v4z\"/>\n",
              "    </g>\n",
              "</svg>\n",
              "      </button>\n",
              "\n",
              "<style>\n",
              "  .colab-df-quickchart {\n",
              "      --bg-color: #E8F0FE;\n",
              "      --fill-color: #1967D2;\n",
              "      --hover-bg-color: #E2EBFA;\n",
              "      --hover-fill-color: #174EA6;\n",
              "      --disabled-fill-color: #AAA;\n",
              "      --disabled-bg-color: #DDD;\n",
              "  }\n",
              "\n",
              "  [theme=dark] .colab-df-quickchart {\n",
              "      --bg-color: #3B4455;\n",
              "      --fill-color: #D2E3FC;\n",
              "      --hover-bg-color: #434B5C;\n",
              "      --hover-fill-color: #FFFFFF;\n",
              "      --disabled-bg-color: #3B4455;\n",
              "      --disabled-fill-color: #666;\n",
              "  }\n",
              "\n",
              "  .colab-df-quickchart {\n",
              "    background-color: var(--bg-color);\n",
              "    border: none;\n",
              "    border-radius: 50%;\n",
              "    cursor: pointer;\n",
              "    display: none;\n",
              "    fill: var(--fill-color);\n",
              "    height: 32px;\n",
              "    padding: 0;\n",
              "    width: 32px;\n",
              "  }\n",
              "\n",
              "  .colab-df-quickchart:hover {\n",
              "    background-color: var(--hover-bg-color);\n",
              "    box-shadow: 0 1px 2px rgba(60, 64, 67, 0.3), 0 1px 3px 1px rgba(60, 64, 67, 0.15);\n",
              "    fill: var(--button-hover-fill-color);\n",
              "  }\n",
              "\n",
              "  .colab-df-quickchart-complete:disabled,\n",
              "  .colab-df-quickchart-complete:disabled:hover {\n",
              "    background-color: var(--disabled-bg-color);\n",
              "    fill: var(--disabled-fill-color);\n",
              "    box-shadow: none;\n",
              "  }\n",
              "\n",
              "  .colab-df-spinner {\n",
              "    border: 2px solid var(--fill-color);\n",
              "    border-color: transparent;\n",
              "    border-bottom-color: var(--fill-color);\n",
              "    animation:\n",
              "      spin 1s steps(1) infinite;\n",
              "  }\n",
              "\n",
              "  @keyframes spin {\n",
              "    0% {\n",
              "      border-color: transparent;\n",
              "      border-bottom-color: var(--fill-color);\n",
              "      border-left-color: var(--fill-color);\n",
              "    }\n",
              "    20% {\n",
              "      border-color: transparent;\n",
              "      border-left-color: var(--fill-color);\n",
              "      border-top-color: var(--fill-color);\n",
              "    }\n",
              "    30% {\n",
              "      border-color: transparent;\n",
              "      border-left-color: var(--fill-color);\n",
              "      border-top-color: var(--fill-color);\n",
              "      border-right-color: var(--fill-color);\n",
              "    }\n",
              "    40% {\n",
              "      border-color: transparent;\n",
              "      border-right-color: var(--fill-color);\n",
              "      border-top-color: var(--fill-color);\n",
              "    }\n",
              "    60% {\n",
              "      border-color: transparent;\n",
              "      border-right-color: var(--fill-color);\n",
              "    }\n",
              "    80% {\n",
              "      border-color: transparent;\n",
              "      border-right-color: var(--fill-color);\n",
              "      border-bottom-color: var(--fill-color);\n",
              "    }\n",
              "    90% {\n",
              "      border-color: transparent;\n",
              "      border-bottom-color: var(--fill-color);\n",
              "    }\n",
              "  }\n",
              "</style>\n",
              "\n",
              "      <script>\n",
              "        async function quickchart(key) {\n",
              "          const quickchartButtonEl =\n",
              "            document.querySelector('#' + key + ' button');\n",
              "          quickchartButtonEl.disabled = true;  // To prevent multiple clicks.\n",
              "          quickchartButtonEl.classList.add('colab-df-spinner');\n",
              "          try {\n",
              "            const charts = await google.colab.kernel.invokeFunction(\n",
              "                'suggestCharts', [key], {});\n",
              "          } catch (error) {\n",
              "            console.error('Error during call to suggestCharts:', error);\n",
              "          }\n",
              "          quickchartButtonEl.classList.remove('colab-df-spinner');\n",
              "          quickchartButtonEl.classList.add('colab-df-quickchart-complete');\n",
              "        }\n",
              "        (() => {\n",
              "          let quickchartButtonEl =\n",
              "            document.querySelector('#df-96443177-08cc-4a14-9999-f082b66db950 button');\n",
              "          quickchartButtonEl.style.display =\n",
              "            google.colab.kernel.accessAllowed ? 'block' : 'none';\n",
              "        })();\n",
              "      </script>\n",
              "    </div>\n",
              "\n",
              "  <div id=\"id_9d2c4de4-91ba-46fc-96a0-2dced984af02\">\n",
              "    <style>\n",
              "      .colab-df-generate {\n",
              "        background-color: #E8F0FE;\n",
              "        border: none;\n",
              "        border-radius: 50%;\n",
              "        cursor: pointer;\n",
              "        display: none;\n",
              "        fill: #1967D2;\n",
              "        height: 32px;\n",
              "        padding: 0 0 0 0;\n",
              "        width: 32px;\n",
              "      }\n",
              "\n",
              "      .colab-df-generate:hover {\n",
              "        background-color: #E2EBFA;\n",
              "        box-shadow: 0px 1px 2px rgba(60, 64, 67, 0.3), 0px 1px 3px 1px rgba(60, 64, 67, 0.15);\n",
              "        fill: #174EA6;\n",
              "      }\n",
              "\n",
              "      [theme=dark] .colab-df-generate {\n",
              "        background-color: #3B4455;\n",
              "        fill: #D2E3FC;\n",
              "      }\n",
              "\n",
              "      [theme=dark] .colab-df-generate:hover {\n",
              "        background-color: #434B5C;\n",
              "        box-shadow: 0px 1px 3px 1px rgba(0, 0, 0, 0.15);\n",
              "        filter: drop-shadow(0px 1px 2px rgba(0, 0, 0, 0.3));\n",
              "        fill: #FFFFFF;\n",
              "      }\n",
              "    </style>\n",
              "    <button class=\"colab-df-generate\" onclick=\"generateWithVariable('df1')\"\n",
              "            title=\"Generate code using this dataframe.\"\n",
              "            style=\"display:none;\">\n",
              "\n",
              "  <svg xmlns=\"http://www.w3.org/2000/svg\" height=\"24px\"viewBox=\"0 0 24 24\"\n",
              "       width=\"24px\">\n",
              "    <path d=\"M7,19H8.4L18.45,9,17,7.55,7,17.6ZM5,21V16.75L18.45,3.32a2,2,0,0,1,2.83,0l1.4,1.43a1.91,1.91,0,0,1,.58,1.4,1.91,1.91,0,0,1-.58,1.4L9.25,21ZM18.45,9,17,7.55Zm-12,3A5.31,5.31,0,0,0,4.9,8.1,5.31,5.31,0,0,0,1,6.5,5.31,5.31,0,0,0,4.9,4.9,5.31,5.31,0,0,0,6.5,1,5.31,5.31,0,0,0,8.1,4.9,5.31,5.31,0,0,0,12,6.5,5.46,5.46,0,0,0,6.5,12Z\"/>\n",
              "  </svg>\n",
              "    </button>\n",
              "    <script>\n",
              "      (() => {\n",
              "      const buttonEl =\n",
              "        document.querySelector('#id_9d2c4de4-91ba-46fc-96a0-2dced984af02 button.colab-df-generate');\n",
              "      buttonEl.style.display =\n",
              "        google.colab.kernel.accessAllowed ? 'block' : 'none';\n",
              "\n",
              "      buttonEl.onclick = () => {\n",
              "        google.colab.notebook.generateWithVariable('df1');\n",
              "      }\n",
              "      })();\n",
              "    </script>\n",
              "  </div>\n",
              "\n",
              "    </div>\n",
              "  </div>\n"
            ],
            "application/vnd.google.colaboratory.intrinsic+json": {
              "type": "dataframe",
              "variable_name": "df1",
              "summary": "{\n  \"name\": \"df1\",\n  \"rows\": 10,\n  \"fields\": [\n    {\n      \"column\": \"Name\",\n      \"properties\": {\n        \"dtype\": \"string\",\n        \"num_unique_values\": 10,\n        \"samples\": [\n          \"Herman Groenveld\",\n          \"Ask Diesen\",\n          \"Nixon Taylor\"\n        ],\n        \"semantic_type\": \"\",\n        \"description\": \"\"\n      }\n    },\n    {\n      \"column\": \"Gender\",\n      \"properties\": {\n        \"dtype\": \"category\",\n        \"num_unique_values\": 2,\n        \"samples\": [\n          \"male\",\n          \"female\"\n        ],\n        \"semantic_type\": \"\",\n        \"description\": \"\"\n      }\n    },\n    {\n      \"column\": \"City\",\n      \"properties\": {\n        \"dtype\": \"string\",\n        \"num_unique_values\": 10,\n        \"samples\": [\n          \"Noordwijk Gn\",\n          \"Ulsteinvik\"\n        ],\n        \"semantic_type\": \"\",\n        \"description\": \"\"\n      }\n    },\n    {\n      \"column\": \"State\",\n      \"properties\": {\n        \"dtype\": \"string\",\n        \"num_unique_values\": 10,\n        \"samples\": [\n          \"Flevoland\",\n          \"Vest-Agder\"\n        ],\n        \"semantic_type\": \"\",\n        \"description\": \"\"\n      }\n    },\n    {\n      \"column\": \"Email\",\n      \"properties\": {\n        \"dtype\": \"string\",\n        \"num_unique_values\": 10,\n        \"samples\": [\n          \"herman.groenveld@example.com\",\n          \"ask.diesen@example.com\"\n        ],\n        \"semantic_type\": \"\",\n        \"description\": \"\"\n      }\n    },\n    {\n      \"column\": \"DOB\",\n      \"properties\": {\n        \"dtype\": \"object\",\n        \"num_unique_values\": 10,\n        \"samples\": [\n          \"1956-09-05T08:52:41.646Z\",\n          \"1955-04-02T21:49:45.356Z\"\n        ],\n        \"semantic_type\": \"\",\n        \"description\": \"\"\n      }\n    },\n    {\n      \"column\": \"Picture\",\n      \"properties\": {\n        \"dtype\": \"string\",\n        \"num_unique_values\": 10,\n        \"samples\": [\n          \"https://randomuser.me/api/portraits/men/81.jpg\",\n          \"https://randomuser.me/api/portraits/men/83.jpg\"\n        ],\n        \"semantic_type\": \"\",\n        \"description\": \"\"\n      }\n    }\n  ]\n}"
            }
          },
          "metadata": {},
          "execution_count": 22
        }
      ]
    }
  ]
}