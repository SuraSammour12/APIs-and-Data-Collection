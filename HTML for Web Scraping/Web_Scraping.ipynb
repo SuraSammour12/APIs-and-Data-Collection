{
  "nbformat": 4,
  "nbformat_minor": 0,
  "metadata": {
    "colab": {
      "provenance": []
    },
    "kernelspec": {
      "name": "python3",
      "display_name": "Python 3"
    },
    "language_info": {
      "name": "python"
    }
  },
  "cells": [
    {
      "cell_type": "markdown",
      "source": [
        "Web Scraping is the process of automatically extracting data from websites using code. Insted of copying and pasting data manually, I can use:\n",
        "\n",
        "`Python + BeautifulSoup + Requests` to do it in seconds"
      ],
      "metadata": {
        "id": "T9vxTrEhC87s"
      }
    },
    {
      "cell_type": "code",
      "source": [
        "# Required Libraries\n",
        "import pandas as pd\n",
        "import requests\n",
        "from bs4 import BeautifulSoup"
      ],
      "metadata": {
        "id": "6GUDdNpTDnvv"
      },
      "execution_count": 1,
      "outputs": []
    },
    {
      "cell_type": "code",
      "source": [
        "# Download the webpage\n",
        "url = 'https://en.wikipedia.org/wiki/White_Nights_(short_story)'\n",
        "response = requests.get(url) # gets the HTML page\n",
        "html = response.text # This is the HTML code for the page"
      ],
      "metadata": {
        "id": "NjqjCZaOD9pm"
      },
      "execution_count": 5,
      "outputs": []
    },
    {
      "cell_type": "code",
      "source": [
        "# Parse HTML with BeautifulSoup\n",
        "soup = BeautifulSoup(html,'html.parser')"
      ],
      "metadata": {
        "id": "CY5nf6ROGNCf"
      },
      "execution_count": 6,
      "outputs": []
    },
    {
      "cell_type": "markdown",
      "source": [
        "soup is now a navigable object that represents the whole HTML document"
      ],
      "metadata": {
        "id": "n1Ppzs1BGdQY"
      }
    },
    {
      "cell_type": "code",
      "source": [
        "# Extract Data\n",
        "# Example: Get the first <h1> element\n",
        "first_heading = soup.find('h1')\n",
        "print(first_heading)\n",
        "print(first_heading.text)"
      ],
      "metadata": {
        "colab": {
          "base_uri": "https://localhost:8080/"
        },
        "id": "rjA17vSqGoey",
        "outputId": "6ae00ac3-ef4d-4f4a-8703-88b04b0dc140"
      },
      "execution_count": 11,
      "outputs": [
        {
          "output_type": "stream",
          "name": "stdout",
          "text": [
            "<h1 class=\"firstHeading mw-first-heading\" id=\"firstHeading\"><span class=\"mw-page-title-main\">White Nights (short story)</span></h1>\n",
            "White Nights (short story)\n"
          ]
        }
      ]
    },
    {
      "cell_type": "code",
      "source": [
        "# table\n",
        "table_rows = soup.find_all('tr') # gets all tables rows\n",
        "for row in table_rows:\n",
        "  cells = row.find_all('td') # gets all cells in a row\n",
        "  for cell in cells:\n",
        "    print(cell.text.strip())"
      ],
      "metadata": {
        "colab": {
          "base_uri": "https://localhost:8080/"
        },
        "id": "rR5N8ROuKPS4",
        "outputId": "48b7efce-ca45-404c-a205-8692a084ed6e"
      },
      "execution_count": 12,
      "outputs": [
        {
          "output_type": "stream",
          "name": "stdout",
          "text": [
            "Short story by Fyodor Dostoevsky\n",
            "Cover of the publication in 1865 as part of White Nights and Other Stories\n",
            "Белые ночи\n",
            "Constance Garnett\n",
            "Russian Empire\n",
            "Russian\n",
            "first-person narrative, romance\n",
            "Otechestvennye Zapiski\n",
            "Newspaper\n",
            "1848\n",
            "1918\n",
            "Bibliography\n",
            "Letters\n",
            "Themes\n",
            "Poor Folk (1846)\n",
            "The Double (1846)\n",
            "Netochka Nezvanova (1849)\n",
            "The Village of Stepanchikovo (1859)\n",
            "Humiliated and Insulted (1861)\n",
            "The House of the Dead (1862)\n",
            "Crime and Punishment (1866)\n",
            "The Gambler (1867)\n",
            "The Idiot (1869)\n",
            "The Eternal Husband (1870)\n",
            "Demons (1872)\n",
            "The Adolescent (1875)\n",
            "The Brothers Karamazov (1880)\n",
            "The Landlady (1847)\n",
            "Uncle's Dream (1859)\n",
            "Notes from Underground (1864)\n",
            "\"Mr. Prokharchin\" (1846)\n",
            "\"Another Man's Wife and a Husband Under the Bed\" (1848)\n",
            "\"The Honest Thief\" (1848)\n",
            "\"The Christmas Tree and a Wedding\" (1848)\n",
            "\"White Nights\" (1848)\n",
            "\"A Nasty Anecdote\" (1862)\n",
            "\"The Crocodile\" (1865)\n",
            "\"Bobok\" (1873)\n",
            "\"The Beggar Boy at Christ's Christmas Tree\" (1876)\n",
            "\"The Meek One\" (1876)\n",
            "\"The Peasant Marey\" (1876)\n",
            "\"The Dream of a Ridiculous Man\" (1877)\n",
            "\"Winter Notes on Summer Impressions\" (1863)\n",
            "A Writer's Diary (1873–1881)\n",
            "Nastasya Filipovna\n",
            "Alyosha Karamazov\n",
            "Fyodor Karamazov\n",
            "Prince Myshkin\n",
            "Rodion Raskolnikov\n",
            "Anna Dostoevskaya (second wife)\n",
            "Lyubov Dostoevskaya (daughter)\n",
            "Mikhail Dostoevsky (brother)\n",
            "Polina Suslova (mistress)\n",
            "Dostoevsky Museum\n",
            "\"The Grand Inquisitor\"\n",
            "Pushkin Speech\n",
            "Vremya magazine\n",
            "Epoch magazine\n",
            "Twenty Six Days from the Life of Dostoyevsky (1981 film)\n",
            "White Nights (1957)\n",
            "White Nights (1959)\n",
            "Chhalia (1960)\n",
            "Four Nights of a Dreamer (1971)\n",
            "White Nights (1992)\n",
            "Iyarkai (2003)\n",
            "Ahista Ahista (2006)\n",
            "Saawariya (2007)\n",
            "Two Lovers (2008)\n",
            "VIAF\n",
            "GermanyUnited StatesSpainIsrael\n"
          ]
        }
      ]
    },
    {
      "cell_type": "markdown",
      "source": [
        "Understanding the HTML Tree:\n",
        "\n",
        "BeautifulSoup turns HTML into a tree-like structure\n",
        "\n",
        "Tags are nodes\n",
        "\n",
        "Tags can have:\n",
        "\n",
        "* parent\n",
        "* children\n",
        "* previous_sibling, next_sibling\n",
        "* attrs: tag attributes as dictionary"
      ],
      "metadata": {
        "id": "7Mvwbz-SK2Li"
      }
    },
    {
      "cell_type": "code",
      "source": [
        "# Accessing Tag Attributes\n",
        "link = soup.find('a')\n",
        "print(link['href']) # print the URL"
      ],
      "metadata": {
        "colab": {
          "base_uri": "https://localhost:8080/"
        },
        "id": "9hbOpUb_L2wj",
        "outputId": "a69b4645-7564-492d-eb71-688f37f0bfea"
      },
      "execution_count": 13,
      "outputs": [
        {
          "output_type": "stream",
          "name": "stdout",
          "text": [
            "#bodyContent\n"
          ]
        }
      ]
    }
  ]
}